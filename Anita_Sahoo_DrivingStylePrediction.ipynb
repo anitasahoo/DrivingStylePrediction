{
 "cells": [
  {
   "cell_type": "markdown",
   "metadata": {},
   "source": [
    "## Load the required libraries"
   ]
  },
  {
   "cell_type": "code",
   "execution_count": 3,
   "metadata": {},
   "outputs": [],
   "source": [
    "import numpy as np\n",
    "import pandas as pd\n",
    "import matplotlib.pyplot as plt\n",
    "from sklearn.model_selection import train_test_split\n",
    "from sklearn.preprocessing import StandardScaler\n",
    "from sklearn.metrics import confusion_matrix\n",
    "from sklearn.externals import joblib\n",
    "from sklearn import datasets \n",
    "from sklearn import model_selection\n",
    "from sklearn.metrics import classification_report\n",
    "from sklearn.metrics import confusion_matrix\n",
    "from sklearn.metrics import accuracy_score\n",
    "from sklearn.linear_model import LogisticRegression\n",
    "from sklearn.tree import DecisionTreeClassifier\n",
    "from sklearn.ensemble import GradientBoostingClassifier\n",
    "from sklearn.neighbors import KNeighborsClassifier\n",
    "from sklearn.discriminant_analysis import LinearDiscriminantAnalysis\n",
    "from sklearn.naive_bayes import GaussianNB\n",
    "from sklearn.svm import SVC\n",
    "from sklearn.ensemble import RandomForestClassifier\n",
    "import matplotlib.pyplot as plt\n",
    "import seaborn as sns\n",
    "import plotly\n",
    "import plotly.offline as pyoff\n",
    "import plotly.figure_factory as ff\n",
    "from plotly.offline import init_notebook_mode, iplot, plot\n",
    "import plotly.graph_objs as go\n",
    "import squarify\n",
    "%matplotlib inline"
   ]
  },
  {
   "cell_type": "markdown",
   "metadata": {},
   "source": [
    "## Read the files in memory"
   ]
  },
  {
   "cell_type": "code",
   "execution_count": 4,
   "metadata": {},
   "outputs": [],
   "source": [
    "vehicle_data = pd.read_csv('Train_Vehicletravellingdata.csv', encoding='utf-8')\n",
    "weather_data = pd.read_csv('Train_WeatherData.csv', encoding='utf-8')\n",
    "train_data = pd.read_csv('Train.csv', encoding='utf-8')\n"
   ]
  },
  {
   "cell_type": "code",
   "execution_count": 5,
   "metadata": {},
   "outputs": [],
   "source": [
    "# On test data\n",
    "vehicle_data_test = pd.read_csv('Test_Vehicletravellingdata.csv', encoding='utf-8')\n",
    "weather_data_test = pd.read_csv('Test_WeatherData.csv', encoding='utf-8')\n",
    "test_data = pd.read_csv('Test.csv', encoding='utf-8')\n"
   ]
  },
  {
   "cell_type": "markdown",
   "metadata": {},
   "source": [
    "#### Redefining Column Names"
   ]
  },
  {
   "cell_type": "code",
   "execution_count": 6,
   "metadata": {},
   "outputs": [],
   "source": [
    "vehicle_data.columns = ['ID','date_time','lane','vehicle_speed','pre_vehicle_ID','pre_vehicle_speed','pre_vehicle_wt','pre_vehicle_len','pre_vehicle_time_gap','road_condition']\n",
    "weather_data.columns = ['ID','date_time','air_temp','precipitation_type','precipitation_intensity','relative_humidity','wind_direction','wind_speed','lighting_condition']\n",
    "train_data.columns = ['ID','vehicle_len','vehicle_wt','num_axle','DrivingStyle']"
   ]
  },
  {
   "cell_type": "code",
   "execution_count": 7,
   "metadata": {},
   "outputs": [],
   "source": [
    "vehicle_data_test.columns = ['ID','date_time','lane','vehicle_speed','pre_vehicle_ID','pre_vehicle_speed','pre_vehicle_wt','pre_vehicle_len','pre_vehicle_time_gap','road_condition']\n",
    "weather_data_test.columns = ['ID','date_time','air_temp','precipitation_type','precipitation_intensity','relative_humidity','wind_direction','wind_speed','lighting_condition']\n",
    "test_data.columns = ['ID','vehicle_len','vehicle_wt','num_axle']\n"
   ]
  },
  {
   "cell_type": "markdown",
   "metadata": {},
   "source": [
    "## EDA"
   ]
  },
  {
   "cell_type": "code",
   "execution_count": 8,
   "metadata": {},
   "outputs": [
    {
     "data": {
      "text/html": [
       "<div>\n",
       "<style scoped>\n",
       "    .dataframe tbody tr th:only-of-type {\n",
       "        vertical-align: middle;\n",
       "    }\n",
       "\n",
       "    .dataframe tbody tr th {\n",
       "        vertical-align: top;\n",
       "    }\n",
       "\n",
       "    .dataframe thead th {\n",
       "        text-align: right;\n",
       "    }\n",
       "</style>\n",
       "<table border=\"1\" class=\"dataframe\">\n",
       "  <thead>\n",
       "    <tr style=\"text-align: right;\">\n",
       "      <th></th>\n",
       "      <th>ID</th>\n",
       "      <th>date_time</th>\n",
       "      <th>lane</th>\n",
       "      <th>vehicle_speed</th>\n",
       "      <th>pre_vehicle_ID</th>\n",
       "      <th>pre_vehicle_speed</th>\n",
       "      <th>pre_vehicle_wt</th>\n",
       "      <th>pre_vehicle_len</th>\n",
       "      <th>pre_vehicle_time_gap</th>\n",
       "      <th>road_condition</th>\n",
       "    </tr>\n",
       "  </thead>\n",
       "  <tbody>\n",
       "    <tr>\n",
       "      <th>0</th>\n",
       "      <td>DR_24526</td>\n",
       "      <td>2012-03-21 09:14:55</td>\n",
       "      <td>1</td>\n",
       "      <td>81</td>\n",
       "      <td>57227</td>\n",
       "      <td>87</td>\n",
       "      <td>16986</td>\n",
       "      <td>941</td>\n",
       "      <td>94.0</td>\n",
       "      <td>Dry</td>\n",
       "    </tr>\n",
       "    <tr>\n",
       "      <th>1</th>\n",
       "      <td>DR_24526</td>\n",
       "      <td>2012-03-21 09:15:07</td>\n",
       "      <td>1</td>\n",
       "      <td>88</td>\n",
       "      <td>57229</td>\n",
       "      <td>81</td>\n",
       "      <td>1708</td>\n",
       "      <td>551</td>\n",
       "      <td>11.0</td>\n",
       "      <td>Dry</td>\n",
       "    </tr>\n",
       "    <tr>\n",
       "      <th>2</th>\n",
       "      <td>DR_24526</td>\n",
       "      <td>2012-03-21 09:15:12</td>\n",
       "      <td>1</td>\n",
       "      <td>88</td>\n",
       "      <td>57230</td>\n",
       "      <td>88</td>\n",
       "      <td>22892</td>\n",
       "      <td>1698</td>\n",
       "      <td>4.0</td>\n",
       "      <td>Dry</td>\n",
       "    </tr>\n",
       "    <tr>\n",
       "      <th>3</th>\n",
       "      <td>DR_24526</td>\n",
       "      <td>2012-03-21 09:15:48</td>\n",
       "      <td>2</td>\n",
       "      <td>84</td>\n",
       "      <td>57228</td>\n",
       "      <td>89</td>\n",
       "      <td>1945</td>\n",
       "      <td>544</td>\n",
       "      <td>127.0</td>\n",
       "      <td>Dry</td>\n",
       "    </tr>\n",
       "    <tr>\n",
       "      <th>4</th>\n",
       "      <td>DR_24526</td>\n",
       "      <td>2012-03-21 09:15:54</td>\n",
       "      <td>1</td>\n",
       "      <td>89</td>\n",
       "      <td>57231</td>\n",
       "      <td>88</td>\n",
       "      <td>13787</td>\n",
       "      <td>1893</td>\n",
       "      <td>42.0</td>\n",
       "      <td>Dry</td>\n",
       "    </tr>\n",
       "  </tbody>\n",
       "</table>\n",
       "</div>"
      ],
      "text/plain": [
       "         ID            date_time  lane  vehicle_speed  pre_vehicle_ID  \\\n",
       "0  DR_24526  2012-03-21 09:14:55     1             81           57227   \n",
       "1  DR_24526  2012-03-21 09:15:07     1             88           57229   \n",
       "2  DR_24526  2012-03-21 09:15:12     1             88           57230   \n",
       "3  DR_24526  2012-03-21 09:15:48     2             84           57228   \n",
       "4  DR_24526  2012-03-21 09:15:54     1             89           57231   \n",
       "\n",
       "   pre_vehicle_speed  pre_vehicle_wt  pre_vehicle_len  pre_vehicle_time_gap  \\\n",
       "0                 87           16986              941                  94.0   \n",
       "1                 81            1708              551                  11.0   \n",
       "2                 88           22892             1698                   4.0   \n",
       "3                 89            1945              544                 127.0   \n",
       "4                 88           13787             1893                  42.0   \n",
       "\n",
       "  road_condition  \n",
       "0            Dry  \n",
       "1            Dry  \n",
       "2            Dry  \n",
       "3            Dry  \n",
       "4            Dry  "
      ]
     },
     "execution_count": 8,
     "metadata": {},
     "output_type": "execute_result"
    }
   ],
   "source": [
    "vehicle_data.head()"
   ]
  },
  {
   "cell_type": "code",
   "execution_count": 9,
   "metadata": {},
   "outputs": [
    {
     "data": {
      "text/html": [
       "<div>\n",
       "<style scoped>\n",
       "    .dataframe tbody tr th:only-of-type {\n",
       "        vertical-align: middle;\n",
       "    }\n",
       "\n",
       "    .dataframe tbody tr th {\n",
       "        vertical-align: top;\n",
       "    }\n",
       "\n",
       "    .dataframe thead th {\n",
       "        text-align: right;\n",
       "    }\n",
       "</style>\n",
       "<table border=\"1\" class=\"dataframe\">\n",
       "  <thead>\n",
       "    <tr style=\"text-align: right;\">\n",
       "      <th></th>\n",
       "      <th>ID</th>\n",
       "      <th>date_time</th>\n",
       "      <th>air_temp</th>\n",
       "      <th>precipitation_type</th>\n",
       "      <th>precipitation_intensity</th>\n",
       "      <th>relative_humidity</th>\n",
       "      <th>wind_direction</th>\n",
       "      <th>wind_speed</th>\n",
       "      <th>lighting_condition</th>\n",
       "    </tr>\n",
       "  </thead>\n",
       "  <tbody>\n",
       "    <tr>\n",
       "      <th>0</th>\n",
       "      <td>DR_24526</td>\n",
       "      <td>2012-03-21 09:14:55</td>\n",
       "      <td>7.0</td>\n",
       "      <td>clear</td>\n",
       "      <td>None</td>\n",
       "      <td>95.0</td>\n",
       "      <td>146.0</td>\n",
       "      <td>1.0</td>\n",
       "      <td>daylight</td>\n",
       "    </tr>\n",
       "    <tr>\n",
       "      <th>1</th>\n",
       "      <td>DR_24526</td>\n",
       "      <td>2012-03-21 09:15:07</td>\n",
       "      <td>7.0</td>\n",
       "      <td>clear</td>\n",
       "      <td>None</td>\n",
       "      <td>95.0</td>\n",
       "      <td>124.0</td>\n",
       "      <td>0.0</td>\n",
       "      <td>daylight</td>\n",
       "    </tr>\n",
       "    <tr>\n",
       "      <th>2</th>\n",
       "      <td>DR_24526</td>\n",
       "      <td>2012-03-21 09:15:12</td>\n",
       "      <td>7.0</td>\n",
       "      <td>clear</td>\n",
       "      <td>None</td>\n",
       "      <td>95.0</td>\n",
       "      <td>124.0</td>\n",
       "      <td>0.0</td>\n",
       "      <td>daylight</td>\n",
       "    </tr>\n",
       "    <tr>\n",
       "      <th>3</th>\n",
       "      <td>DR_24526</td>\n",
       "      <td>2012-03-21 09:15:48</td>\n",
       "      <td>7.0</td>\n",
       "      <td>clear</td>\n",
       "      <td>None</td>\n",
       "      <td>95.0</td>\n",
       "      <td>124.0</td>\n",
       "      <td>0.0</td>\n",
       "      <td>daylight</td>\n",
       "    </tr>\n",
       "    <tr>\n",
       "      <th>4</th>\n",
       "      <td>DR_24526</td>\n",
       "      <td>2012-03-21 09:15:54</td>\n",
       "      <td>7.0</td>\n",
       "      <td>clear</td>\n",
       "      <td>None</td>\n",
       "      <td>95.0</td>\n",
       "      <td>124.0</td>\n",
       "      <td>0.0</td>\n",
       "      <td>daylight</td>\n",
       "    </tr>\n",
       "  </tbody>\n",
       "</table>\n",
       "</div>"
      ],
      "text/plain": [
       "         ID            date_time  air_temp precipitation_type  \\\n",
       "0  DR_24526  2012-03-21 09:14:55       7.0              clear   \n",
       "1  DR_24526  2012-03-21 09:15:07       7.0              clear   \n",
       "2  DR_24526  2012-03-21 09:15:12       7.0              clear   \n",
       "3  DR_24526  2012-03-21 09:15:48       7.0              clear   \n",
       "4  DR_24526  2012-03-21 09:15:54       7.0              clear   \n",
       "\n",
       "  precipitation_intensity  relative_humidity  wind_direction  wind_speed  \\\n",
       "0                    None               95.0           146.0         1.0   \n",
       "1                    None               95.0           124.0         0.0   \n",
       "2                    None               95.0           124.0         0.0   \n",
       "3                    None               95.0           124.0         0.0   \n",
       "4                    None               95.0           124.0         0.0   \n",
       "\n",
       "  lighting_condition  \n",
       "0           daylight  \n",
       "1           daylight  \n",
       "2           daylight  \n",
       "3           daylight  \n",
       "4           daylight  "
      ]
     },
     "execution_count": 9,
     "metadata": {},
     "output_type": "execute_result"
    }
   ],
   "source": [
    "weather_data.head()"
   ]
  },
  {
   "cell_type": "code",
   "execution_count": 10,
   "metadata": {},
   "outputs": [
    {
     "data": {
      "text/html": [
       "<div>\n",
       "<style scoped>\n",
       "    .dataframe tbody tr th:only-of-type {\n",
       "        vertical-align: middle;\n",
       "    }\n",
       "\n",
       "    .dataframe tbody tr th {\n",
       "        vertical-align: top;\n",
       "    }\n",
       "\n",
       "    .dataframe thead th {\n",
       "        text-align: right;\n",
       "    }\n",
       "</style>\n",
       "<table border=\"1\" class=\"dataframe\">\n",
       "  <thead>\n",
       "    <tr style=\"text-align: right;\">\n",
       "      <th></th>\n",
       "      <th>ID</th>\n",
       "      <th>vehicle_len</th>\n",
       "      <th>vehicle_wt</th>\n",
       "      <th>num_axle</th>\n",
       "      <th>DrivingStyle</th>\n",
       "    </tr>\n",
       "  </thead>\n",
       "  <tbody>\n",
       "    <tr>\n",
       "      <th>0</th>\n",
       "      <td>DR_24526</td>\n",
       "      <td>1265</td>\n",
       "      <td>10243</td>\n",
       "      <td>2</td>\n",
       "      <td>2</td>\n",
       "    </tr>\n",
       "    <tr>\n",
       "      <th>1</th>\n",
       "      <td>DR_30052</td>\n",
       "      <td>1680</td>\n",
       "      <td>30871</td>\n",
       "      <td>6</td>\n",
       "      <td>2</td>\n",
       "    </tr>\n",
       "    <tr>\n",
       "      <th>2</th>\n",
       "      <td>DR_40928</td>\n",
       "      <td>936</td>\n",
       "      <td>3224</td>\n",
       "      <td>4</td>\n",
       "      <td>2</td>\n",
       "    </tr>\n",
       "    <tr>\n",
       "      <th>3</th>\n",
       "      <td>DR_66033</td>\n",
       "      <td>1503</td>\n",
       "      <td>3315</td>\n",
       "      <td>4</td>\n",
       "      <td>2</td>\n",
       "    </tr>\n",
       "    <tr>\n",
       "      <th>4</th>\n",
       "      <td>DR_45266</td>\n",
       "      <td>929</td>\n",
       "      <td>3022</td>\n",
       "      <td>4</td>\n",
       "      <td>2</td>\n",
       "    </tr>\n",
       "  </tbody>\n",
       "</table>\n",
       "</div>"
      ],
      "text/plain": [
       "         ID  vehicle_len  vehicle_wt  num_axle  DrivingStyle\n",
       "0  DR_24526         1265       10243         2             2\n",
       "1  DR_30052         1680       30871         6             2\n",
       "2  DR_40928          936        3224         4             2\n",
       "3  DR_66033         1503        3315         4             2\n",
       "4  DR_45266          929        3022         4             2"
      ]
     },
     "execution_count": 10,
     "metadata": {},
     "output_type": "execute_result"
    }
   ],
   "source": [
    "train_data.head()"
   ]
  },
  {
   "cell_type": "markdown",
   "metadata": {},
   "source": [
    "## Data Preprocessing"
   ]
  },
  {
   "cell_type": "markdown",
   "metadata": {},
   "source": [
    "#### Observation\n",
    "1. ID and Date Time appear to be the common collumns between vehicle_data and weather_data and ID to be between train_data and the other 2 files\n",
    "2. Expanding the data as aggregation might cause loss of information since same ID have different values multiple columns"
   ]
  },
  {
   "cell_type": "markdown",
   "metadata": {},
   "source": [
    "#### Combining the files into a single dataframe"
   ]
  },
  {
   "cell_type": "code",
   "execution_count": 11,
   "metadata": {},
   "outputs": [],
   "source": [
    "vehicle_and_weather_data = pd.merge(vehicle_data, weather_data, how='inner', on=['ID','date_time'])\n",
    "combined_data = pd.merge(vehicle_and_weather_data,train_data, how='outer',on=['ID'])"
   ]
  },
  {
   "cell_type": "code",
   "execution_count": 12,
   "metadata": {},
   "outputs": [],
   "source": [
    "# on test data\n",
    "vehicle_and_weather_data_test = pd.merge(vehicle_data_test, weather_data_test, how='inner', on=['ID','date_time'])\n",
    "combined_data_test = pd.merge(vehicle_and_weather_data_test,test_data, how='outer',on=['ID'])"
   ]
  },
  {
   "cell_type": "code",
   "execution_count": 13,
   "metadata": {},
   "outputs": [
    {
     "data": {
      "text/plain": [
       "ID                          object\n",
       "date_time                   object\n",
       "lane                         int64\n",
       "vehicle_speed                int64\n",
       "pre_vehicle_ID               int64\n",
       "pre_vehicle_speed            int64\n",
       "pre_vehicle_wt               int64\n",
       "pre_vehicle_len              int64\n",
       "pre_vehicle_time_gap       float64\n",
       "road_condition              object\n",
       "air_temp                   float64\n",
       "precipitation_type          object\n",
       "precipitation_intensity     object\n",
       "relative_humidity          float64\n",
       "wind_direction             float64\n",
       "wind_speed                 float64\n",
       "lighting_condition          object\n",
       "vehicle_len                  int64\n",
       "vehicle_wt                   int64\n",
       "num_axle                     int64\n",
       "DrivingStyle                 int64\n",
       "dtype: object"
      ]
     },
     "execution_count": 13,
     "metadata": {},
     "output_type": "execute_result"
    }
   ],
   "source": [
    "combined_data.dtypes"
   ]
  },
  {
   "cell_type": "code",
   "execution_count": 14,
   "metadata": {},
   "outputs": [
    {
     "data": {
      "text/plain": [
       "ID                          object\n",
       "date_time                   object\n",
       "lane                         int64\n",
       "vehicle_speed                int64\n",
       "pre_vehicle_ID               int64\n",
       "pre_vehicle_speed            int64\n",
       "pre_vehicle_wt               int64\n",
       "pre_vehicle_len              int64\n",
       "pre_vehicle_time_gap       float64\n",
       "road_condition              object\n",
       "air_temp                   float64\n",
       "precipitation_type          object\n",
       "precipitation_intensity     object\n",
       "relative_humidity          float64\n",
       "wind_direction             float64\n",
       "wind_speed                 float64\n",
       "lighting_condition          object\n",
       "vehicle_len                  int64\n",
       "vehicle_wt                   int64\n",
       "num_axle                     int64\n",
       "dtype: object"
      ]
     },
     "execution_count": 14,
     "metadata": {},
     "output_type": "execute_result"
    }
   ],
   "source": [
    "combined_data_test.dtypes"
   ]
  },
  {
   "cell_type": "code",
   "execution_count": 15,
   "metadata": {},
   "outputs": [
    {
     "data": {
      "text/plain": [
       "(162566, 21)"
      ]
     },
     "execution_count": 15,
     "metadata": {},
     "output_type": "execute_result"
    }
   ],
   "source": [
    "combined_data.shape"
   ]
  },
  {
   "cell_type": "code",
   "execution_count": 16,
   "metadata": {},
   "outputs": [
    {
     "data": {
      "text/plain": [
       "(61671, 20)"
      ]
     },
     "execution_count": 16,
     "metadata": {},
     "output_type": "execute_result"
    }
   ],
   "source": [
    "combined_data_test.shape"
   ]
  },
  {
   "cell_type": "code",
   "execution_count": 17,
   "metadata": {},
   "outputs": [
    {
     "data": {
      "text/plain": [
       "ID                            0\n",
       "date_time                     0\n",
       "lane                          0\n",
       "vehicle_speed                 0\n",
       "pre_vehicle_ID                0\n",
       "pre_vehicle_speed             0\n",
       "pre_vehicle_wt                0\n",
       "pre_vehicle_len               0\n",
       "pre_vehicle_time_gap       2455\n",
       "road_condition                0\n",
       "air_temp                   2057\n",
       "precipitation_type            0\n",
       "precipitation_intensity       0\n",
       "relative_humidity          2105\n",
       "wind_direction             2114\n",
       "wind_speed                 2464\n",
       "lighting_condition            0\n",
       "vehicle_len                   0\n",
       "vehicle_wt                    0\n",
       "num_axle                      0\n",
       "DrivingStyle                  0\n",
       "dtype: int64"
      ]
     },
     "execution_count": 17,
     "metadata": {},
     "output_type": "execute_result"
    }
   ],
   "source": [
    "combined_data.isnull().sum()"
   ]
  },
  {
   "cell_type": "code",
   "execution_count": 18,
   "metadata": {},
   "outputs": [
    {
     "data": {
      "text/plain": [
       "ID                           0\n",
       "date_time                    0\n",
       "lane                         0\n",
       "vehicle_speed                0\n",
       "pre_vehicle_ID               0\n",
       "pre_vehicle_speed            0\n",
       "pre_vehicle_wt               0\n",
       "pre_vehicle_len              0\n",
       "pre_vehicle_time_gap       956\n",
       "road_condition               0\n",
       "air_temp                   934\n",
       "precipitation_type           0\n",
       "precipitation_intensity      0\n",
       "relative_humidity          943\n",
       "wind_direction             964\n",
       "wind_speed                 983\n",
       "lighting_condition           0\n",
       "vehicle_len                  0\n",
       "vehicle_wt                   0\n",
       "num_axle                     0\n",
       "dtype: int64"
      ]
     },
     "execution_count": 18,
     "metadata": {},
     "output_type": "execute_result"
    }
   ],
   "source": [
    "combined_data_test.isnull().sum()"
   ]
  },
  {
   "cell_type": "markdown",
   "metadata": {},
   "source": [
    "#### Categorical and Numerical Data Split"
   ]
  },
  {
   "cell_type": "code",
   "execution_count": 19,
   "metadata": {},
   "outputs": [],
   "source": [
    "def split_cat_num_cols(data):\n",
    "    cat_cols =[]\n",
    "    num_cols =[]\n",
    "    for i in data.columns:\n",
    "        # assuming categorical data has less than 10 unique values\n",
    "        # for this dataset the assumption holds good\n",
    "        if len(np.unique(data[i])) < 10:\n",
    "            cat_cols.append(i)\n",
    "            data[i] = data[i].astype('category')\n",
    "        else:           \n",
    "            num_cols.append(i)\n",
    "            if i != 'ID' and i != 'date_time' and i != 'pre_vehicle_ID':\n",
    "                data[i] = data[i].astype('float')\n",
    "    return cat_cols, num_cols"
   ]
  },
  {
   "cell_type": "code",
   "execution_count": 20,
   "metadata": {},
   "outputs": [],
   "source": [
    "cat_cols,num_cols = split_cat_num_cols(combined_data)"
   ]
  },
  {
   "cell_type": "code",
   "execution_count": 21,
   "metadata": {},
   "outputs": [
    {
     "data": {
      "text/plain": [
       "['lane',\n",
       " 'road_condition',\n",
       " 'precipitation_type',\n",
       " 'precipitation_intensity',\n",
       " 'lighting_condition',\n",
       " 'num_axle',\n",
       " 'DrivingStyle']"
      ]
     },
     "execution_count": 21,
     "metadata": {},
     "output_type": "execute_result"
    }
   ],
   "source": [
    "cat_cols"
   ]
  },
  {
   "cell_type": "code",
   "execution_count": 22,
   "metadata": {},
   "outputs": [
    {
     "data": {
      "text/plain": [
       "['ID',\n",
       " 'date_time',\n",
       " 'vehicle_speed',\n",
       " 'pre_vehicle_ID',\n",
       " 'pre_vehicle_speed',\n",
       " 'pre_vehicle_wt',\n",
       " 'pre_vehicle_len',\n",
       " 'pre_vehicle_time_gap',\n",
       " 'air_temp',\n",
       " 'relative_humidity',\n",
       " 'wind_direction',\n",
       " 'wind_speed',\n",
       " 'vehicle_len',\n",
       " 'vehicle_wt']"
      ]
     },
     "execution_count": 22,
     "metadata": {},
     "output_type": "execute_result"
    }
   ],
   "source": [
    "num_cols"
   ]
  },
  {
   "cell_type": "code",
   "execution_count": 23,
   "metadata": {},
   "outputs": [
    {
     "data": {
      "text/plain": [
       "ID                           object\n",
       "date_time                    object\n",
       "lane                       category\n",
       "vehicle_speed               float64\n",
       "pre_vehicle_ID                int64\n",
       "pre_vehicle_speed           float64\n",
       "pre_vehicle_wt              float64\n",
       "pre_vehicle_len             float64\n",
       "pre_vehicle_time_gap        float64\n",
       "road_condition             category\n",
       "air_temp                    float64\n",
       "precipitation_type         category\n",
       "precipitation_intensity    category\n",
       "relative_humidity           float64\n",
       "wind_direction              float64\n",
       "wind_speed                  float64\n",
       "lighting_condition         category\n",
       "vehicle_len                 float64\n",
       "vehicle_wt                  float64\n",
       "num_axle                   category\n",
       "DrivingStyle               category\n",
       "dtype: object"
      ]
     },
     "execution_count": 23,
     "metadata": {},
     "output_type": "execute_result"
    }
   ],
   "source": [
    "combined_data.dtypes"
   ]
  },
  {
   "cell_type": "markdown",
   "metadata": {},
   "source": [
    "#### Drop columns which have no significance"
   ]
  },
  {
   "cell_type": "code",
   "execution_count": 24,
   "metadata": {},
   "outputs": [],
   "source": [
    "combined_data = combined_data.drop(['date_time','pre_vehicle_ID'],axis=1)"
   ]
  },
  {
   "cell_type": "code",
   "execution_count": 25,
   "metadata": {},
   "outputs": [
    {
     "data": {
      "text/plain": [
       "(162566, 19)"
      ]
     },
     "execution_count": 25,
     "metadata": {},
     "output_type": "execute_result"
    }
   ],
   "source": [
    "combined_data.shape"
   ]
  },
  {
   "cell_type": "code",
   "execution_count": 26,
   "metadata": {},
   "outputs": [],
   "source": [
    "combined_data_test = combined_data_test.drop(['date_time','pre_vehicle_ID'],axis=1)"
   ]
  },
  {
   "cell_type": "code",
   "execution_count": 27,
   "metadata": {},
   "outputs": [
    {
     "data": {
      "text/plain": [
       "(61671, 18)"
      ]
     },
     "execution_count": 27,
     "metadata": {},
     "output_type": "execute_result"
    }
   ],
   "source": [
    "combined_data_test.shape"
   ]
  },
  {
   "cell_type": "markdown",
   "metadata": {},
   "source": [
    "#### Impute NA with 0 for Numerical"
   ]
  },
  {
   "cell_type": "code",
   "execution_count": 28,
   "metadata": {},
   "outputs": [],
   "source": [
    "num_cols.remove('date_time')"
   ]
  },
  {
   "cell_type": "code",
   "execution_count": 29,
   "metadata": {},
   "outputs": [],
   "source": [
    "num_cols.remove('pre_vehicle_ID')"
   ]
  },
  {
   "cell_type": "code",
   "execution_count": 30,
   "metadata": {},
   "outputs": [
    {
     "data": {
      "text/plain": [
       "['ID',\n",
       " 'vehicle_speed',\n",
       " 'pre_vehicle_speed',\n",
       " 'pre_vehicle_wt',\n",
       " 'pre_vehicle_len',\n",
       " 'pre_vehicle_time_gap',\n",
       " 'air_temp',\n",
       " 'relative_humidity',\n",
       " 'wind_direction',\n",
       " 'wind_speed',\n",
       " 'vehicle_len',\n",
       " 'vehicle_wt']"
      ]
     },
     "execution_count": 30,
     "metadata": {},
     "output_type": "execute_result"
    }
   ],
   "source": [
    "num_cols"
   ]
  },
  {
   "cell_type": "code",
   "execution_count": 31,
   "metadata": {},
   "outputs": [],
   "source": [
    "combined_data_num = combined_data[num_cols].replace(np.NaN,0)"
   ]
  },
  {
   "cell_type": "markdown",
   "metadata": {},
   "source": [
    "#### Impute NA with Unknow for Categorcal "
   ]
  },
  {
   "cell_type": "code",
   "execution_count": 32,
   "metadata": {},
   "outputs": [],
   "source": [
    "combined_data_cat = combined_data[cat_cols].replace(np.NaN,'Unknown')"
   ]
  },
  {
   "cell_type": "code",
   "execution_count": 33,
   "metadata": {},
   "outputs": [],
   "source": [
    "combined_data[num_cols] = combined_data_num[num_cols]\n",
    "combined_data[cat_cols] = combined_data_cat[cat_cols]"
   ]
  },
  {
   "cell_type": "markdown",
   "metadata": {},
   "source": [
    "#### Imputing for Test"
   ]
  },
  {
   "cell_type": "code",
   "execution_count": 34,
   "metadata": {},
   "outputs": [],
   "source": [
    "combined_data_test_num = combined_data_test[num_cols].replace(np.NaN,0)"
   ]
  },
  {
   "cell_type": "code",
   "execution_count": 35,
   "metadata": {},
   "outputs": [],
   "source": [
    "cat_cols_test = cat_cols\n",
    "cat_cols_test.remove('DrivingStyle')\n",
    "combined_data_test_cat = combined_data_test[cat_cols_test].replace(np.NaN,'Unknown')"
   ]
  },
  {
   "cell_type": "code",
   "execution_count": 36,
   "metadata": {},
   "outputs": [],
   "source": [
    "combined_data_test[num_cols] = combined_data_test_num[num_cols]\n",
    "combined_data_test[cat_cols] = combined_data_test_cat[cat_cols]"
   ]
  },
  {
   "cell_type": "code",
   "execution_count": 37,
   "metadata": {},
   "outputs": [
    {
     "data": {
      "text/html": [
       "<div>\n",
       "<style scoped>\n",
       "    .dataframe tbody tr th:only-of-type {\n",
       "        vertical-align: middle;\n",
       "    }\n",
       "\n",
       "    .dataframe tbody tr th {\n",
       "        vertical-align: top;\n",
       "    }\n",
       "\n",
       "    .dataframe thead th {\n",
       "        text-align: right;\n",
       "    }\n",
       "</style>\n",
       "<table border=\"1\" class=\"dataframe\">\n",
       "  <thead>\n",
       "    <tr style=\"text-align: right;\">\n",
       "      <th></th>\n",
       "      <th>ID</th>\n",
       "      <th>lane</th>\n",
       "      <th>vehicle_speed</th>\n",
       "      <th>pre_vehicle_speed</th>\n",
       "      <th>pre_vehicle_wt</th>\n",
       "      <th>pre_vehicle_len</th>\n",
       "      <th>pre_vehicle_time_gap</th>\n",
       "      <th>road_condition</th>\n",
       "      <th>air_temp</th>\n",
       "      <th>precipitation_type</th>\n",
       "      <th>precipitation_intensity</th>\n",
       "      <th>relative_humidity</th>\n",
       "      <th>wind_direction</th>\n",
       "      <th>wind_speed</th>\n",
       "      <th>lighting_condition</th>\n",
       "      <th>vehicle_len</th>\n",
       "      <th>vehicle_wt</th>\n",
       "      <th>num_axle</th>\n",
       "      <th>DrivingStyle</th>\n",
       "    </tr>\n",
       "  </thead>\n",
       "  <tbody>\n",
       "    <tr>\n",
       "      <th>0</th>\n",
       "      <td>DR_24526</td>\n",
       "      <td>1</td>\n",
       "      <td>81.0</td>\n",
       "      <td>87.0</td>\n",
       "      <td>16986.0</td>\n",
       "      <td>941.0</td>\n",
       "      <td>94.0</td>\n",
       "      <td>Dry</td>\n",
       "      <td>7.0</td>\n",
       "      <td>clear</td>\n",
       "      <td>None</td>\n",
       "      <td>95.0</td>\n",
       "      <td>146.0</td>\n",
       "      <td>1.0</td>\n",
       "      <td>daylight</td>\n",
       "      <td>1265.0</td>\n",
       "      <td>10243.0</td>\n",
       "      <td>2</td>\n",
       "      <td>2</td>\n",
       "    </tr>\n",
       "    <tr>\n",
       "      <th>1</th>\n",
       "      <td>DR_24526</td>\n",
       "      <td>1</td>\n",
       "      <td>88.0</td>\n",
       "      <td>81.0</td>\n",
       "      <td>1708.0</td>\n",
       "      <td>551.0</td>\n",
       "      <td>11.0</td>\n",
       "      <td>Dry</td>\n",
       "      <td>7.0</td>\n",
       "      <td>clear</td>\n",
       "      <td>None</td>\n",
       "      <td>95.0</td>\n",
       "      <td>124.0</td>\n",
       "      <td>0.0</td>\n",
       "      <td>daylight</td>\n",
       "      <td>1265.0</td>\n",
       "      <td>10243.0</td>\n",
       "      <td>2</td>\n",
       "      <td>2</td>\n",
       "    </tr>\n",
       "    <tr>\n",
       "      <th>2</th>\n",
       "      <td>DR_24526</td>\n",
       "      <td>1</td>\n",
       "      <td>88.0</td>\n",
       "      <td>88.0</td>\n",
       "      <td>22892.0</td>\n",
       "      <td>1698.0</td>\n",
       "      <td>4.0</td>\n",
       "      <td>Dry</td>\n",
       "      <td>7.0</td>\n",
       "      <td>clear</td>\n",
       "      <td>None</td>\n",
       "      <td>95.0</td>\n",
       "      <td>124.0</td>\n",
       "      <td>0.0</td>\n",
       "      <td>daylight</td>\n",
       "      <td>1265.0</td>\n",
       "      <td>10243.0</td>\n",
       "      <td>2</td>\n",
       "      <td>2</td>\n",
       "    </tr>\n",
       "    <tr>\n",
       "      <th>3</th>\n",
       "      <td>DR_24526</td>\n",
       "      <td>2</td>\n",
       "      <td>84.0</td>\n",
       "      <td>89.0</td>\n",
       "      <td>1945.0</td>\n",
       "      <td>544.0</td>\n",
       "      <td>127.0</td>\n",
       "      <td>Dry</td>\n",
       "      <td>7.0</td>\n",
       "      <td>clear</td>\n",
       "      <td>None</td>\n",
       "      <td>95.0</td>\n",
       "      <td>124.0</td>\n",
       "      <td>0.0</td>\n",
       "      <td>daylight</td>\n",
       "      <td>1265.0</td>\n",
       "      <td>10243.0</td>\n",
       "      <td>2</td>\n",
       "      <td>2</td>\n",
       "    </tr>\n",
       "    <tr>\n",
       "      <th>4</th>\n",
       "      <td>DR_24526</td>\n",
       "      <td>1</td>\n",
       "      <td>89.0</td>\n",
       "      <td>88.0</td>\n",
       "      <td>13787.0</td>\n",
       "      <td>1893.0</td>\n",
       "      <td>42.0</td>\n",
       "      <td>Dry</td>\n",
       "      <td>7.0</td>\n",
       "      <td>clear</td>\n",
       "      <td>None</td>\n",
       "      <td>95.0</td>\n",
       "      <td>124.0</td>\n",
       "      <td>0.0</td>\n",
       "      <td>daylight</td>\n",
       "      <td>1265.0</td>\n",
       "      <td>10243.0</td>\n",
       "      <td>2</td>\n",
       "      <td>2</td>\n",
       "    </tr>\n",
       "  </tbody>\n",
       "</table>\n",
       "</div>"
      ],
      "text/plain": [
       "         ID  lane  vehicle_speed  pre_vehicle_speed  pre_vehicle_wt  \\\n",
       "0  DR_24526     1           81.0               87.0         16986.0   \n",
       "1  DR_24526     1           88.0               81.0          1708.0   \n",
       "2  DR_24526     1           88.0               88.0         22892.0   \n",
       "3  DR_24526     2           84.0               89.0          1945.0   \n",
       "4  DR_24526     1           89.0               88.0         13787.0   \n",
       "\n",
       "   pre_vehicle_len  pre_vehicle_time_gap road_condition  air_temp  \\\n",
       "0            941.0                  94.0            Dry       7.0   \n",
       "1            551.0                  11.0            Dry       7.0   \n",
       "2           1698.0                   4.0            Dry       7.0   \n",
       "3            544.0                 127.0            Dry       7.0   \n",
       "4           1893.0                  42.0            Dry       7.0   \n",
       "\n",
       "  precipitation_type precipitation_intensity  relative_humidity  \\\n",
       "0              clear                    None               95.0   \n",
       "1              clear                    None               95.0   \n",
       "2              clear                    None               95.0   \n",
       "3              clear                    None               95.0   \n",
       "4              clear                    None               95.0   \n",
       "\n",
       "   wind_direction  wind_speed lighting_condition  vehicle_len  vehicle_wt  \\\n",
       "0           146.0         1.0           daylight       1265.0     10243.0   \n",
       "1           124.0         0.0           daylight       1265.0     10243.0   \n",
       "2           124.0         0.0           daylight       1265.0     10243.0   \n",
       "3           124.0         0.0           daylight       1265.0     10243.0   \n",
       "4           124.0         0.0           daylight       1265.0     10243.0   \n",
       "\n",
       "   num_axle  DrivingStyle  \n",
       "0         2             2  \n",
       "1         2             2  \n",
       "2         2             2  \n",
       "3         2             2  \n",
       "4         2             2  "
      ]
     },
     "execution_count": 37,
     "metadata": {},
     "output_type": "execute_result"
    }
   ],
   "source": [
    "combined_data.head()"
   ]
  },
  {
   "cell_type": "code",
   "execution_count": 38,
   "metadata": {},
   "outputs": [
    {
     "data": {
      "text/html": [
       "<div>\n",
       "<style scoped>\n",
       "    .dataframe tbody tr th:only-of-type {\n",
       "        vertical-align: middle;\n",
       "    }\n",
       "\n",
       "    .dataframe tbody tr th {\n",
       "        vertical-align: top;\n",
       "    }\n",
       "\n",
       "    .dataframe thead th {\n",
       "        text-align: right;\n",
       "    }\n",
       "</style>\n",
       "<table border=\"1\" class=\"dataframe\">\n",
       "  <thead>\n",
       "    <tr style=\"text-align: right;\">\n",
       "      <th></th>\n",
       "      <th>ID</th>\n",
       "      <th>lane</th>\n",
       "      <th>vehicle_speed</th>\n",
       "      <th>pre_vehicle_speed</th>\n",
       "      <th>pre_vehicle_wt</th>\n",
       "      <th>pre_vehicle_len</th>\n",
       "      <th>pre_vehicle_time_gap</th>\n",
       "      <th>road_condition</th>\n",
       "      <th>air_temp</th>\n",
       "      <th>precipitation_type</th>\n",
       "      <th>precipitation_intensity</th>\n",
       "      <th>relative_humidity</th>\n",
       "      <th>wind_direction</th>\n",
       "      <th>wind_speed</th>\n",
       "      <th>lighting_condition</th>\n",
       "      <th>vehicle_len</th>\n",
       "      <th>vehicle_wt</th>\n",
       "      <th>num_axle</th>\n",
       "    </tr>\n",
       "  </thead>\n",
       "  <tbody>\n",
       "    <tr>\n",
       "      <th>0</th>\n",
       "      <td>DR_79986</td>\n",
       "      <td>1</td>\n",
       "      <td>87</td>\n",
       "      <td>94</td>\n",
       "      <td>2511</td>\n",
       "      <td>547</td>\n",
       "      <td>83.0</td>\n",
       "      <td>Dry</td>\n",
       "      <td>8.0</td>\n",
       "      <td>clear</td>\n",
       "      <td>None</td>\n",
       "      <td>95.0</td>\n",
       "      <td>174.0</td>\n",
       "      <td>4.0</td>\n",
       "      <td>daylight</td>\n",
       "      <td>574</td>\n",
       "      <td>1268</td>\n",
       "      <td>2</td>\n",
       "    </tr>\n",
       "    <tr>\n",
       "      <th>1</th>\n",
       "      <td>DR_79986</td>\n",
       "      <td>1</td>\n",
       "      <td>85</td>\n",
       "      <td>87</td>\n",
       "      <td>15630</td>\n",
       "      <td>1821</td>\n",
       "      <td>2.0</td>\n",
       "      <td>Dry</td>\n",
       "      <td>8.0</td>\n",
       "      <td>clear</td>\n",
       "      <td>None</td>\n",
       "      <td>95.0</td>\n",
       "      <td>174.0</td>\n",
       "      <td>4.0</td>\n",
       "      <td>daylight</td>\n",
       "      <td>574</td>\n",
       "      <td>1268</td>\n",
       "      <td>2</td>\n",
       "    </tr>\n",
       "    <tr>\n",
       "      <th>2</th>\n",
       "      <td>DR_79986</td>\n",
       "      <td>2</td>\n",
       "      <td>86</td>\n",
       "      <td>78</td>\n",
       "      <td>14443</td>\n",
       "      <td>2048</td>\n",
       "      <td>175.0</td>\n",
       "      <td>Dry</td>\n",
       "      <td>8.0</td>\n",
       "      <td>clear</td>\n",
       "      <td>None</td>\n",
       "      <td>95.0</td>\n",
       "      <td>174.0</td>\n",
       "      <td>4.0</td>\n",
       "      <td>daylight</td>\n",
       "      <td>574</td>\n",
       "      <td>1268</td>\n",
       "      <td>2</td>\n",
       "    </tr>\n",
       "    <tr>\n",
       "      <th>3</th>\n",
       "      <td>DR_79986</td>\n",
       "      <td>2</td>\n",
       "      <td>113</td>\n",
       "      <td>86</td>\n",
       "      <td>1615</td>\n",
       "      <td>557</td>\n",
       "      <td>8.0</td>\n",
       "      <td>Dry</td>\n",
       "      <td>8.0</td>\n",
       "      <td>clear</td>\n",
       "      <td>None</td>\n",
       "      <td>95.0</td>\n",
       "      <td>174.0</td>\n",
       "      <td>4.0</td>\n",
       "      <td>daylight</td>\n",
       "      <td>574</td>\n",
       "      <td>1268</td>\n",
       "      <td>2</td>\n",
       "    </tr>\n",
       "    <tr>\n",
       "      <th>4</th>\n",
       "      <td>DR_79986</td>\n",
       "      <td>1</td>\n",
       "      <td>92</td>\n",
       "      <td>85</td>\n",
       "      <td>8800</td>\n",
       "      <td>1233</td>\n",
       "      <td>88.0</td>\n",
       "      <td>Dry</td>\n",
       "      <td>8.0</td>\n",
       "      <td>clear</td>\n",
       "      <td>None</td>\n",
       "      <td>95.0</td>\n",
       "      <td>174.0</td>\n",
       "      <td>4.0</td>\n",
       "      <td>daylight</td>\n",
       "      <td>574</td>\n",
       "      <td>1268</td>\n",
       "      <td>2</td>\n",
       "    </tr>\n",
       "  </tbody>\n",
       "</table>\n",
       "</div>"
      ],
      "text/plain": [
       "         ID  lane  vehicle_speed  pre_vehicle_speed  pre_vehicle_wt  \\\n",
       "0  DR_79986     1             87                 94            2511   \n",
       "1  DR_79986     1             85                 87           15630   \n",
       "2  DR_79986     2             86                 78           14443   \n",
       "3  DR_79986     2            113                 86            1615   \n",
       "4  DR_79986     1             92                 85            8800   \n",
       "\n",
       "   pre_vehicle_len  pre_vehicle_time_gap road_condition  air_temp  \\\n",
       "0              547                  83.0            Dry       8.0   \n",
       "1             1821                   2.0            Dry       8.0   \n",
       "2             2048                 175.0            Dry       8.0   \n",
       "3              557                   8.0            Dry       8.0   \n",
       "4             1233                  88.0            Dry       8.0   \n",
       "\n",
       "  precipitation_type precipitation_intensity  relative_humidity  \\\n",
       "0              clear                    None               95.0   \n",
       "1              clear                    None               95.0   \n",
       "2              clear                    None               95.0   \n",
       "3              clear                    None               95.0   \n",
       "4              clear                    None               95.0   \n",
       "\n",
       "   wind_direction  wind_speed lighting_condition  vehicle_len  vehicle_wt  \\\n",
       "0           174.0         4.0           daylight          574        1268   \n",
       "1           174.0         4.0           daylight          574        1268   \n",
       "2           174.0         4.0           daylight          574        1268   \n",
       "3           174.0         4.0           daylight          574        1268   \n",
       "4           174.0         4.0           daylight          574        1268   \n",
       "\n",
       "   num_axle  \n",
       "0         2  \n",
       "1         2  \n",
       "2         2  \n",
       "3         2  \n",
       "4         2  "
      ]
     },
     "execution_count": 38,
     "metadata": {},
     "output_type": "execute_result"
    }
   ],
   "source": [
    "combined_data_test.head()"
   ]
  },
  {
   "cell_type": "code",
   "execution_count": 39,
   "metadata": {},
   "outputs": [
    {
     "data": {
      "text/plain": [
       "(162566, 19)"
      ]
     },
     "execution_count": 39,
     "metadata": {},
     "output_type": "execute_result"
    }
   ],
   "source": [
    "combined_data.shape"
   ]
  },
  {
   "cell_type": "code",
   "execution_count": 40,
   "metadata": {},
   "outputs": [
    {
     "data": {
      "text/plain": [
       "(61671, 18)"
      ]
     },
     "execution_count": 40,
     "metadata": {},
     "output_type": "execute_result"
    }
   ],
   "source": [
    "combined_data_test.shape"
   ]
  },
  {
   "cell_type": "markdown",
   "metadata": {},
   "source": [
    "#### Aggregate Numerical and Categorical \n",
    "Categorical - Take Mode"
   ]
  },
  {
   "cell_type": "code",
   "execution_count": 41,
   "metadata": {},
   "outputs": [],
   "source": [
    "combined_data_cat_aggregated = combined_data.groupby(['ID'], sort=False)['ID','lane',\n",
    " 'road_condition',\n",
    " 'precipitation_type',\n",
    " 'precipitation_intensity',\n",
    " 'lighting_condition',\n",
    " 'num_axle',\n",
    " 'DrivingStyle'].max()"
   ]
  },
  {
   "cell_type": "code",
   "execution_count": 42,
   "metadata": {},
   "outputs": [
    {
     "data": {
      "text/html": [
       "<div>\n",
       "<style scoped>\n",
       "    .dataframe tbody tr th:only-of-type {\n",
       "        vertical-align: middle;\n",
       "    }\n",
       "\n",
       "    .dataframe tbody tr th {\n",
       "        vertical-align: top;\n",
       "    }\n",
       "\n",
       "    .dataframe thead th {\n",
       "        text-align: right;\n",
       "    }\n",
       "</style>\n",
       "<table border=\"1\" class=\"dataframe\">\n",
       "  <thead>\n",
       "    <tr style=\"text-align: right;\">\n",
       "      <th></th>\n",
       "      <th>ID</th>\n",
       "      <th>lane</th>\n",
       "      <th>road_condition</th>\n",
       "      <th>precipitation_type</th>\n",
       "      <th>precipitation_intensity</th>\n",
       "      <th>lighting_condition</th>\n",
       "      <th>num_axle</th>\n",
       "      <th>DrivingStyle</th>\n",
       "    </tr>\n",
       "    <tr>\n",
       "      <th>ID</th>\n",
       "      <th></th>\n",
       "      <th></th>\n",
       "      <th></th>\n",
       "      <th></th>\n",
       "      <th></th>\n",
       "      <th></th>\n",
       "      <th></th>\n",
       "      <th></th>\n",
       "    </tr>\n",
       "  </thead>\n",
       "  <tbody>\n",
       "    <tr>\n",
       "      <th>DR_24526</th>\n",
       "      <td>DR_24526</td>\n",
       "      <td>2</td>\n",
       "      <td>Dry</td>\n",
       "      <td>clear</td>\n",
       "      <td>None</td>\n",
       "      <td>daylight</td>\n",
       "      <td>2</td>\n",
       "      <td>2</td>\n",
       "    </tr>\n",
       "    <tr>\n",
       "      <th>DR_30052</th>\n",
       "      <td>DR_30052</td>\n",
       "      <td>2</td>\n",
       "      <td>Dry</td>\n",
       "      <td>clear</td>\n",
       "      <td>None</td>\n",
       "      <td>daylight</td>\n",
       "      <td>6</td>\n",
       "      <td>2</td>\n",
       "    </tr>\n",
       "    <tr>\n",
       "      <th>DR_40928</th>\n",
       "      <td>DR_40928</td>\n",
       "      <td>2</td>\n",
       "      <td>Dry</td>\n",
       "      <td>rain</td>\n",
       "      <td>Low</td>\n",
       "      <td>daylight</td>\n",
       "      <td>4</td>\n",
       "      <td>2</td>\n",
       "    </tr>\n",
       "    <tr>\n",
       "      <th>DR_66033</th>\n",
       "      <td>DR_66033</td>\n",
       "      <td>2</td>\n",
       "      <td>Dry</td>\n",
       "      <td>clear</td>\n",
       "      <td>None</td>\n",
       "      <td>daylight</td>\n",
       "      <td>4</td>\n",
       "      <td>2</td>\n",
       "    </tr>\n",
       "    <tr>\n",
       "      <th>DR_45266</th>\n",
       "      <td>DR_45266</td>\n",
       "      <td>2</td>\n",
       "      <td>Dry</td>\n",
       "      <td>clear</td>\n",
       "      <td>None</td>\n",
       "      <td>daylight</td>\n",
       "      <td>4</td>\n",
       "      <td>2</td>\n",
       "    </tr>\n",
       "  </tbody>\n",
       "</table>\n",
       "</div>"
      ],
      "text/plain": [
       "                ID  lane road_condition precipitation_type  \\\n",
       "ID                                                           \n",
       "DR_24526  DR_24526     2            Dry              clear   \n",
       "DR_30052  DR_30052     2            Dry              clear   \n",
       "DR_40928  DR_40928     2            Dry               rain   \n",
       "DR_66033  DR_66033     2            Dry              clear   \n",
       "DR_45266  DR_45266     2            Dry              clear   \n",
       "\n",
       "         precipitation_intensity lighting_condition  num_axle  DrivingStyle  \n",
       "ID                                                                           \n",
       "DR_24526                    None           daylight         2             2  \n",
       "DR_30052                    None           daylight         6             2  \n",
       "DR_40928                     Low           daylight         4             2  \n",
       "DR_66033                    None           daylight         4             2  \n",
       "DR_45266                    None           daylight         4             2  "
      ]
     },
     "execution_count": 42,
     "metadata": {},
     "output_type": "execute_result"
    }
   ],
   "source": [
    "combined_data_cat_aggregated.head()"
   ]
  },
  {
   "cell_type": "code",
   "execution_count": 43,
   "metadata": {},
   "outputs": [
    {
     "data": {
      "text/plain": [
       "Index(['ID', 'lane', 'road_condition', 'precipitation_type',\n",
       "       'precipitation_intensity', 'lighting_condition', 'num_axle',\n",
       "       'DrivingStyle'],\n",
       "      dtype='object')"
      ]
     },
     "execution_count": 43,
     "metadata": {},
     "output_type": "execute_result"
    }
   ],
   "source": [
    "combined_data_cat_aggregated.columns"
   ]
  },
  {
   "cell_type": "code",
   "execution_count": 44,
   "metadata": {},
   "outputs": [
    {
     "data": {
      "text/plain": [
       "ID                         12994\n",
       "lane                       12994\n",
       "road_condition             12994\n",
       "precipitation_type         12994\n",
       "precipitation_intensity    12994\n",
       "lighting_condition         12994\n",
       "num_axle                   12994\n",
       "DrivingStyle               12994\n",
       "dtype: int64"
      ]
     },
     "execution_count": 44,
     "metadata": {},
     "output_type": "execute_result"
    }
   ],
   "source": [
    "combined_data_cat_aggregated.count()"
   ]
  },
  {
   "cell_type": "markdown",
   "metadata": {},
   "source": [
    "#### Numerical - Take Mean"
   ]
  },
  {
   "cell_type": "code",
   "execution_count": 45,
   "metadata": {},
   "outputs": [],
   "source": [
    "combined_data_num_aggregated = combined_data.groupby(['ID'])[ \n",
    " 'vehicle_speed',\n",
    " 'pre_vehicle_speed',\n",
    " 'pre_vehicle_wt',\n",
    " 'pre_vehicle_len',\n",
    " 'pre_vehicle_time_gap',\n",
    " 'air_temp',\n",
    " 'relative_humidity',\n",
    " 'wind_direction',\n",
    " 'wind_speed',\n",
    " 'vehicle_len',\n",
    " 'vehicle_wt'].mean()"
   ]
  },
  {
   "cell_type": "code",
   "execution_count": 46,
   "metadata": {},
   "outputs": [
    {
     "data": {
      "text/plain": [
       "vehicle_speed           12994\n",
       "pre_vehicle_speed       12994\n",
       "pre_vehicle_wt          12994\n",
       "pre_vehicle_len         12994\n",
       "pre_vehicle_time_gap    12994\n",
       "air_temp                12994\n",
       "relative_humidity       12994\n",
       "wind_direction          12994\n",
       "wind_speed              12994\n",
       "vehicle_len             12994\n",
       "vehicle_wt              12994\n",
       "dtype: int64"
      ]
     },
     "execution_count": 46,
     "metadata": {},
     "output_type": "execute_result"
    }
   ],
   "source": [
    "combined_data_num_aggregated.count()"
   ]
  },
  {
   "cell_type": "code",
   "execution_count": 47,
   "metadata": {},
   "outputs": [
    {
     "data": {
      "text/html": [
       "<div>\n",
       "<style scoped>\n",
       "    .dataframe tbody tr th:only-of-type {\n",
       "        vertical-align: middle;\n",
       "    }\n",
       "\n",
       "    .dataframe tbody tr th {\n",
       "        vertical-align: top;\n",
       "    }\n",
       "\n",
       "    .dataframe thead th {\n",
       "        text-align: right;\n",
       "    }\n",
       "</style>\n",
       "<table border=\"1\" class=\"dataframe\">\n",
       "  <thead>\n",
       "    <tr style=\"text-align: right;\">\n",
       "      <th></th>\n",
       "      <th>vehicle_speed</th>\n",
       "      <th>pre_vehicle_speed</th>\n",
       "      <th>pre_vehicle_wt</th>\n",
       "      <th>pre_vehicle_len</th>\n",
       "      <th>pre_vehicle_time_gap</th>\n",
       "      <th>air_temp</th>\n",
       "      <th>relative_humidity</th>\n",
       "      <th>wind_direction</th>\n",
       "      <th>wind_speed</th>\n",
       "      <th>vehicle_len</th>\n",
       "      <th>vehicle_wt</th>\n",
       "    </tr>\n",
       "    <tr>\n",
       "      <th>ID</th>\n",
       "      <th></th>\n",
       "      <th></th>\n",
       "      <th></th>\n",
       "      <th></th>\n",
       "      <th></th>\n",
       "      <th></th>\n",
       "      <th></th>\n",
       "      <th></th>\n",
       "      <th></th>\n",
       "      <th></th>\n",
       "      <th></th>\n",
       "    </tr>\n",
       "  </thead>\n",
       "  <tbody>\n",
       "    <tr>\n",
       "      <th>DR_10002</th>\n",
       "      <td>84.400000</td>\n",
       "      <td>77.000000</td>\n",
       "      <td>4200.400000</td>\n",
       "      <td>762.000000</td>\n",
       "      <td>234.800000</td>\n",
       "      <td>2.2000</td>\n",
       "      <td>66.6000</td>\n",
       "      <td>173.200</td>\n",
       "      <td>5.8000</td>\n",
       "      <td>552.0</td>\n",
       "      <td>2027.0</td>\n",
       "    </tr>\n",
       "    <tr>\n",
       "      <th>DR_10013</th>\n",
       "      <td>86.555556</td>\n",
       "      <td>85.777778</td>\n",
       "      <td>9517.888889</td>\n",
       "      <td>1184.888889</td>\n",
       "      <td>173.111111</td>\n",
       "      <td>4.0000</td>\n",
       "      <td>58.0000</td>\n",
       "      <td>163.000</td>\n",
       "      <td>8.0000</td>\n",
       "      <td>1709.0</td>\n",
       "      <td>18599.0</td>\n",
       "    </tr>\n",
       "    <tr>\n",
       "      <th>DR_10023</th>\n",
       "      <td>83.125000</td>\n",
       "      <td>81.625000</td>\n",
       "      <td>10180.187500</td>\n",
       "      <td>1022.312500</td>\n",
       "      <td>61.437500</td>\n",
       "      <td>6.0625</td>\n",
       "      <td>34.0625</td>\n",
       "      <td>205.875</td>\n",
       "      <td>3.0625</td>\n",
       "      <td>552.0</td>\n",
       "      <td>1289.0</td>\n",
       "    </tr>\n",
       "    <tr>\n",
       "      <th>DR_10024</th>\n",
       "      <td>86.666667</td>\n",
       "      <td>81.500000</td>\n",
       "      <td>6366.333333</td>\n",
       "      <td>1069.666667</td>\n",
       "      <td>194.166667</td>\n",
       "      <td>0.0000</td>\n",
       "      <td>0.0000</td>\n",
       "      <td>0.000</td>\n",
       "      <td>0.0000</td>\n",
       "      <td>1768.0</td>\n",
       "      <td>14588.0</td>\n",
       "    </tr>\n",
       "    <tr>\n",
       "      <th>DR_10025</th>\n",
       "      <td>81.500000</td>\n",
       "      <td>82.500000</td>\n",
       "      <td>10157.875000</td>\n",
       "      <td>1113.625000</td>\n",
       "      <td>156.125000</td>\n",
       "      <td>1.0000</td>\n",
       "      <td>87.0000</td>\n",
       "      <td>11.000</td>\n",
       "      <td>3.0000</td>\n",
       "      <td>1734.0</td>\n",
       "      <td>16708.0</td>\n",
       "    </tr>\n",
       "  </tbody>\n",
       "</table>\n",
       "</div>"
      ],
      "text/plain": [
       "          vehicle_speed  pre_vehicle_speed  pre_vehicle_wt  pre_vehicle_len  \\\n",
       "ID                                                                            \n",
       "DR_10002      84.400000          77.000000     4200.400000       762.000000   \n",
       "DR_10013      86.555556          85.777778     9517.888889      1184.888889   \n",
       "DR_10023      83.125000          81.625000    10180.187500      1022.312500   \n",
       "DR_10024      86.666667          81.500000     6366.333333      1069.666667   \n",
       "DR_10025      81.500000          82.500000    10157.875000      1113.625000   \n",
       "\n",
       "          pre_vehicle_time_gap  air_temp  relative_humidity  wind_direction  \\\n",
       "ID                                                                            \n",
       "DR_10002            234.800000    2.2000            66.6000         173.200   \n",
       "DR_10013            173.111111    4.0000            58.0000         163.000   \n",
       "DR_10023             61.437500    6.0625            34.0625         205.875   \n",
       "DR_10024            194.166667    0.0000             0.0000           0.000   \n",
       "DR_10025            156.125000    1.0000            87.0000          11.000   \n",
       "\n",
       "          wind_speed  vehicle_len  vehicle_wt  \n",
       "ID                                             \n",
       "DR_10002      5.8000        552.0      2027.0  \n",
       "DR_10013      8.0000       1709.0     18599.0  \n",
       "DR_10023      3.0625        552.0      1289.0  \n",
       "DR_10024      0.0000       1768.0     14588.0  \n",
       "DR_10025      3.0000       1734.0     16708.0  "
      ]
     },
     "execution_count": 47,
     "metadata": {},
     "output_type": "execute_result"
    }
   ],
   "source": [
    "combined_data_num_aggregated.head()"
   ]
  },
  {
   "cell_type": "markdown",
   "metadata": {},
   "source": [
    "#### Aggregate on Test Data"
   ]
  },
  {
   "cell_type": "code",
   "execution_count": 48,
   "metadata": {},
   "outputs": [],
   "source": [
    "combined_data_cat_test_aggregated = combined_data_test.groupby(['ID'], sort=False)['ID','lane',\n",
    " 'road_condition',\n",
    " 'precipitation_type',\n",
    " 'precipitation_intensity',\n",
    " 'lighting_condition',\n",
    " 'num_axle'].max()"
   ]
  },
  {
   "cell_type": "code",
   "execution_count": 49,
   "metadata": {},
   "outputs": [],
   "source": [
    "combined_data_num_test_aggregated = combined_data_test.groupby(['ID'])[ \n",
    " 'vehicle_speed',\n",
    " 'pre_vehicle_speed',\n",
    " 'pre_vehicle_wt',\n",
    " 'pre_vehicle_len',\n",
    " 'pre_vehicle_time_gap',\n",
    " 'air_temp',\n",
    " 'relative_humidity',\n",
    " 'wind_direction',\n",
    " 'wind_speed',\n",
    " 'vehicle_len',\n",
    " 'vehicle_wt'].mean()"
   ]
  },
  {
   "cell_type": "markdown",
   "metadata": {},
   "source": [
    "#### Merging Aggregated Data"
   ]
  },
  {
   "cell_type": "code",
   "execution_count": 50,
   "metadata": {},
   "outputs": [],
   "source": [
    "combined_data_aggregated = combined_data_num_aggregated.copy()\n",
    "combined_data_aggregated[combined_data_cat_aggregated.columns] = combined_data_cat_aggregated[combined_data_cat_aggregated.columns]\n"
   ]
  },
  {
   "cell_type": "code",
   "execution_count": 51,
   "metadata": {},
   "outputs": [
    {
     "data": {
      "text/plain": [
       "(12994, 19)"
      ]
     },
     "execution_count": 51,
     "metadata": {},
     "output_type": "execute_result"
    }
   ],
   "source": [
    "combined_data_aggregated.shape"
   ]
  },
  {
   "cell_type": "code",
   "execution_count": 52,
   "metadata": {},
   "outputs": [],
   "source": [
    "combined_data_aggregated.reset_index(drop=True, inplace=True)"
   ]
  },
  {
   "cell_type": "code",
   "execution_count": 53,
   "metadata": {},
   "outputs": [
    {
     "data": {
      "text/html": [
       "<div>\n",
       "<style scoped>\n",
       "    .dataframe tbody tr th:only-of-type {\n",
       "        vertical-align: middle;\n",
       "    }\n",
       "\n",
       "    .dataframe tbody tr th {\n",
       "        vertical-align: top;\n",
       "    }\n",
       "\n",
       "    .dataframe thead th {\n",
       "        text-align: right;\n",
       "    }\n",
       "</style>\n",
       "<table border=\"1\" class=\"dataframe\">\n",
       "  <thead>\n",
       "    <tr style=\"text-align: right;\">\n",
       "      <th></th>\n",
       "      <th>vehicle_speed</th>\n",
       "      <th>pre_vehicle_speed</th>\n",
       "      <th>pre_vehicle_wt</th>\n",
       "      <th>pre_vehicle_len</th>\n",
       "      <th>pre_vehicle_time_gap</th>\n",
       "      <th>air_temp</th>\n",
       "      <th>relative_humidity</th>\n",
       "      <th>wind_direction</th>\n",
       "      <th>wind_speed</th>\n",
       "      <th>vehicle_len</th>\n",
       "      <th>vehicle_wt</th>\n",
       "      <th>ID</th>\n",
       "      <th>lane</th>\n",
       "      <th>road_condition</th>\n",
       "      <th>precipitation_type</th>\n",
       "      <th>precipitation_intensity</th>\n",
       "      <th>lighting_condition</th>\n",
       "      <th>num_axle</th>\n",
       "      <th>DrivingStyle</th>\n",
       "    </tr>\n",
       "  </thead>\n",
       "  <tbody>\n",
       "    <tr>\n",
       "      <th>0</th>\n",
       "      <td>84.400000</td>\n",
       "      <td>77.000000</td>\n",
       "      <td>4200.400000</td>\n",
       "      <td>762.000000</td>\n",
       "      <td>234.800000</td>\n",
       "      <td>2.2000</td>\n",
       "      <td>66.6000</td>\n",
       "      <td>173.200</td>\n",
       "      <td>5.8000</td>\n",
       "      <td>552.0</td>\n",
       "      <td>2027.0</td>\n",
       "      <td>DR_10002</td>\n",
       "      <td>2</td>\n",
       "      <td>Dry</td>\n",
       "      <td>clear</td>\n",
       "      <td>None</td>\n",
       "      <td>daylight</td>\n",
       "      <td>2</td>\n",
       "      <td>2</td>\n",
       "    </tr>\n",
       "    <tr>\n",
       "      <th>1</th>\n",
       "      <td>86.555556</td>\n",
       "      <td>85.777778</td>\n",
       "      <td>9517.888889</td>\n",
       "      <td>1184.888889</td>\n",
       "      <td>173.111111</td>\n",
       "      <td>4.0000</td>\n",
       "      <td>58.0000</td>\n",
       "      <td>163.000</td>\n",
       "      <td>8.0000</td>\n",
       "      <td>1709.0</td>\n",
       "      <td>18599.0</td>\n",
       "      <td>DR_10013</td>\n",
       "      <td>2</td>\n",
       "      <td>Dry</td>\n",
       "      <td>clear</td>\n",
       "      <td>None</td>\n",
       "      <td>night</td>\n",
       "      <td>6</td>\n",
       "      <td>3</td>\n",
       "    </tr>\n",
       "    <tr>\n",
       "      <th>2</th>\n",
       "      <td>83.125000</td>\n",
       "      <td>81.625000</td>\n",
       "      <td>10180.187500</td>\n",
       "      <td>1022.312500</td>\n",
       "      <td>61.437500</td>\n",
       "      <td>6.0625</td>\n",
       "      <td>34.0625</td>\n",
       "      <td>205.875</td>\n",
       "      <td>3.0625</td>\n",
       "      <td>552.0</td>\n",
       "      <td>1289.0</td>\n",
       "      <td>DR_10023</td>\n",
       "      <td>2</td>\n",
       "      <td>Dry</td>\n",
       "      <td>clear</td>\n",
       "      <td>None</td>\n",
       "      <td>night</td>\n",
       "      <td>2</td>\n",
       "      <td>2</td>\n",
       "    </tr>\n",
       "    <tr>\n",
       "      <th>3</th>\n",
       "      <td>86.666667</td>\n",
       "      <td>81.500000</td>\n",
       "      <td>6366.333333</td>\n",
       "      <td>1069.666667</td>\n",
       "      <td>194.166667</td>\n",
       "      <td>0.0000</td>\n",
       "      <td>0.0000</td>\n",
       "      <td>0.000</td>\n",
       "      <td>0.0000</td>\n",
       "      <td>1768.0</td>\n",
       "      <td>14588.0</td>\n",
       "      <td>DR_10024</td>\n",
       "      <td>2</td>\n",
       "      <td>Dry</td>\n",
       "      <td>snow</td>\n",
       "      <td></td>\n",
       "      <td>twilight</td>\n",
       "      <td>5</td>\n",
       "      <td>1</td>\n",
       "    </tr>\n",
       "    <tr>\n",
       "      <th>4</th>\n",
       "      <td>81.500000</td>\n",
       "      <td>82.500000</td>\n",
       "      <td>10157.875000</td>\n",
       "      <td>1113.625000</td>\n",
       "      <td>156.125000</td>\n",
       "      <td>1.0000</td>\n",
       "      <td>87.0000</td>\n",
       "      <td>11.000</td>\n",
       "      <td>3.0000</td>\n",
       "      <td>1734.0</td>\n",
       "      <td>16708.0</td>\n",
       "      <td>DR_10025</td>\n",
       "      <td>2</td>\n",
       "      <td>Wet</td>\n",
       "      <td>clear</td>\n",
       "      <td>None</td>\n",
       "      <td>night</td>\n",
       "      <td>5</td>\n",
       "      <td>3</td>\n",
       "    </tr>\n",
       "  </tbody>\n",
       "</table>\n",
       "</div>"
      ],
      "text/plain": [
       "   vehicle_speed  pre_vehicle_speed  pre_vehicle_wt  pre_vehicle_len  \\\n",
       "0      84.400000          77.000000     4200.400000       762.000000   \n",
       "1      86.555556          85.777778     9517.888889      1184.888889   \n",
       "2      83.125000          81.625000    10180.187500      1022.312500   \n",
       "3      86.666667          81.500000     6366.333333      1069.666667   \n",
       "4      81.500000          82.500000    10157.875000      1113.625000   \n",
       "\n",
       "   pre_vehicle_time_gap  air_temp  relative_humidity  wind_direction  \\\n",
       "0            234.800000    2.2000            66.6000         173.200   \n",
       "1            173.111111    4.0000            58.0000         163.000   \n",
       "2             61.437500    6.0625            34.0625         205.875   \n",
       "3            194.166667    0.0000             0.0000           0.000   \n",
       "4            156.125000    1.0000            87.0000          11.000   \n",
       "\n",
       "   wind_speed  vehicle_len  vehicle_wt        ID  lane road_condition  \\\n",
       "0      5.8000        552.0      2027.0  DR_10002     2            Dry   \n",
       "1      8.0000       1709.0     18599.0  DR_10013     2            Dry   \n",
       "2      3.0625        552.0      1289.0  DR_10023     2            Dry   \n",
       "3      0.0000       1768.0     14588.0  DR_10024     2            Dry   \n",
       "4      3.0000       1734.0     16708.0  DR_10025     2            Wet   \n",
       "\n",
       "  precipitation_type precipitation_intensity lighting_condition  num_axle  \\\n",
       "0              clear                    None           daylight         2   \n",
       "1              clear                    None              night         6   \n",
       "2              clear                    None              night         2   \n",
       "3               snow                                   twilight         5   \n",
       "4              clear                    None              night         5   \n",
       "\n",
       "   DrivingStyle  \n",
       "0             2  \n",
       "1             3  \n",
       "2             2  \n",
       "3             1  \n",
       "4             3  "
      ]
     },
     "execution_count": 53,
     "metadata": {},
     "output_type": "execute_result"
    }
   ],
   "source": [
    "combined_data_aggregated.head()"
   ]
  },
  {
   "cell_type": "markdown",
   "metadata": {},
   "source": [
    "#### Merge aggregated data for test"
   ]
  },
  {
   "cell_type": "code",
   "execution_count": 54,
   "metadata": {},
   "outputs": [],
   "source": [
    "combined_data_test_aggregated = combined_data_num_test_aggregated.copy()\n",
    "combined_data_test_aggregated[combined_data_cat_test_aggregated.columns] = combined_data_cat_test_aggregated[combined_data_cat_test_aggregated.columns]\n"
   ]
  },
  {
   "cell_type": "code",
   "execution_count": 55,
   "metadata": {},
   "outputs": [
    {
     "data": {
      "text/plain": [
       "(4880, 18)"
      ]
     },
     "execution_count": 55,
     "metadata": {},
     "output_type": "execute_result"
    }
   ],
   "source": [
    "combined_data_test_aggregated.shape"
   ]
  },
  {
   "cell_type": "code",
   "execution_count": 56,
   "metadata": {},
   "outputs": [],
   "source": [
    "combined_data_test_aggregated.reset_index(drop=True, inplace=True)"
   ]
  },
  {
   "cell_type": "code",
   "execution_count": 57,
   "metadata": {},
   "outputs": [
    {
     "data": {
      "text/html": [
       "<div>\n",
       "<style scoped>\n",
       "    .dataframe tbody tr th:only-of-type {\n",
       "        vertical-align: middle;\n",
       "    }\n",
       "\n",
       "    .dataframe tbody tr th {\n",
       "        vertical-align: top;\n",
       "    }\n",
       "\n",
       "    .dataframe thead th {\n",
       "        text-align: right;\n",
       "    }\n",
       "</style>\n",
       "<table border=\"1\" class=\"dataframe\">\n",
       "  <thead>\n",
       "    <tr style=\"text-align: right;\">\n",
       "      <th></th>\n",
       "      <th>vehicle_speed</th>\n",
       "      <th>pre_vehicle_speed</th>\n",
       "      <th>pre_vehicle_wt</th>\n",
       "      <th>pre_vehicle_len</th>\n",
       "      <th>pre_vehicle_time_gap</th>\n",
       "      <th>air_temp</th>\n",
       "      <th>relative_humidity</th>\n",
       "      <th>wind_direction</th>\n",
       "      <th>wind_speed</th>\n",
       "      <th>vehicle_len</th>\n",
       "      <th>vehicle_wt</th>\n",
       "      <th>ID</th>\n",
       "      <th>lane</th>\n",
       "      <th>road_condition</th>\n",
       "      <th>precipitation_type</th>\n",
       "      <th>precipitation_intensity</th>\n",
       "      <th>lighting_condition</th>\n",
       "      <th>num_axle</th>\n",
       "    </tr>\n",
       "  </thead>\n",
       "  <tbody>\n",
       "    <tr>\n",
       "      <th>0</th>\n",
       "      <td>81.928571</td>\n",
       "      <td>82.500000</td>\n",
       "      <td>5102.714286</td>\n",
       "      <td>725.000000</td>\n",
       "      <td>93.642857</td>\n",
       "      <td>1.00</td>\n",
       "      <td>57.5</td>\n",
       "      <td>157.50</td>\n",
       "      <td>5.50</td>\n",
       "      <td>548.0</td>\n",
       "      <td>2467.0</td>\n",
       "      <td>DR_75256</td>\n",
       "      <td>2</td>\n",
       "      <td>Dry</td>\n",
       "      <td>clear</td>\n",
       "      <td>None</td>\n",
       "      <td>daylight</td>\n",
       "      <td>2</td>\n",
       "    </tr>\n",
       "    <tr>\n",
       "      <th>1</th>\n",
       "      <td>84.760000</td>\n",
       "      <td>85.600000</td>\n",
       "      <td>4215.360000</td>\n",
       "      <td>760.160000</td>\n",
       "      <td>50.520000</td>\n",
       "      <td>1.88</td>\n",
       "      <td>67.0</td>\n",
       "      <td>17.84</td>\n",
       "      <td>3.24</td>\n",
       "      <td>594.0</td>\n",
       "      <td>1794.0</td>\n",
       "      <td>DR_75257</td>\n",
       "      <td>2</td>\n",
       "      <td>Dry</td>\n",
       "      <td>clear</td>\n",
       "      <td>None</td>\n",
       "      <td>night</td>\n",
       "      <td>2</td>\n",
       "    </tr>\n",
       "    <tr>\n",
       "      <th>2</th>\n",
       "      <td>90.500000</td>\n",
       "      <td>93.500000</td>\n",
       "      <td>1702.500000</td>\n",
       "      <td>641.750000</td>\n",
       "      <td>302.250000</td>\n",
       "      <td>2.50</td>\n",
       "      <td>90.5</td>\n",
       "      <td>194.50</td>\n",
       "      <td>5.00</td>\n",
       "      <td>825.0</td>\n",
       "      <td>5885.0</td>\n",
       "      <td>DR_75260</td>\n",
       "      <td>2</td>\n",
       "      <td>Wet</td>\n",
       "      <td>rain</td>\n",
       "      <td>Low</td>\n",
       "      <td>daylight</td>\n",
       "      <td>2</td>\n",
       "    </tr>\n",
       "    <tr>\n",
       "      <th>3</th>\n",
       "      <td>91.000000</td>\n",
       "      <td>92.272727</td>\n",
       "      <td>3861.545455</td>\n",
       "      <td>792.818182</td>\n",
       "      <td>60.681818</td>\n",
       "      <td>5.50</td>\n",
       "      <td>50.0</td>\n",
       "      <td>146.50</td>\n",
       "      <td>5.50</td>\n",
       "      <td>567.0</td>\n",
       "      <td>1655.0</td>\n",
       "      <td>DR_75272</td>\n",
       "      <td>2</td>\n",
       "      <td>Dry</td>\n",
       "      <td>clear</td>\n",
       "      <td>None</td>\n",
       "      <td>daylight</td>\n",
       "      <td>2</td>\n",
       "    </tr>\n",
       "    <tr>\n",
       "      <th>4</th>\n",
       "      <td>85.000000</td>\n",
       "      <td>86.000000</td>\n",
       "      <td>13110.333333</td>\n",
       "      <td>1437.666667</td>\n",
       "      <td>202.333333</td>\n",
       "      <td>5.00</td>\n",
       "      <td>95.0</td>\n",
       "      <td>191.00</td>\n",
       "      <td>5.00</td>\n",
       "      <td>1993.0</td>\n",
       "      <td>19417.0</td>\n",
       "      <td>DR_75274</td>\n",
       "      <td>1</td>\n",
       "      <td>Wet</td>\n",
       "      <td>clear</td>\n",
       "      <td>None</td>\n",
       "      <td>night</td>\n",
       "      <td>6</td>\n",
       "    </tr>\n",
       "  </tbody>\n",
       "</table>\n",
       "</div>"
      ],
      "text/plain": [
       "   vehicle_speed  pre_vehicle_speed  pre_vehicle_wt  pre_vehicle_len  \\\n",
       "0      81.928571          82.500000     5102.714286       725.000000   \n",
       "1      84.760000          85.600000     4215.360000       760.160000   \n",
       "2      90.500000          93.500000     1702.500000       641.750000   \n",
       "3      91.000000          92.272727     3861.545455       792.818182   \n",
       "4      85.000000          86.000000    13110.333333      1437.666667   \n",
       "\n",
       "   pre_vehicle_time_gap  air_temp  relative_humidity  wind_direction  \\\n",
       "0             93.642857      1.00               57.5          157.50   \n",
       "1             50.520000      1.88               67.0           17.84   \n",
       "2            302.250000      2.50               90.5          194.50   \n",
       "3             60.681818      5.50               50.0          146.50   \n",
       "4            202.333333      5.00               95.0          191.00   \n",
       "\n",
       "   wind_speed  vehicle_len  vehicle_wt        ID  lane road_condition  \\\n",
       "0        5.50        548.0      2467.0  DR_75256     2            Dry   \n",
       "1        3.24        594.0      1794.0  DR_75257     2            Dry   \n",
       "2        5.00        825.0      5885.0  DR_75260     2            Wet   \n",
       "3        5.50        567.0      1655.0  DR_75272     2            Dry   \n",
       "4        5.00       1993.0     19417.0  DR_75274     1            Wet   \n",
       "\n",
       "  precipitation_type precipitation_intensity lighting_condition  num_axle  \n",
       "0              clear                    None           daylight         2  \n",
       "1              clear                    None              night         2  \n",
       "2               rain                     Low           daylight         2  \n",
       "3              clear                    None           daylight         2  \n",
       "4              clear                    None              night         6  "
      ]
     },
     "execution_count": 57,
     "metadata": {},
     "output_type": "execute_result"
    }
   ],
   "source": [
    "combined_data_test_aggregated.head()"
   ]
  },
  {
   "cell_type": "markdown",
   "metadata": {},
   "source": [
    "#### check the No of Values in each Level of Target Variable"
   ]
  },
  {
   "cell_type": "code",
   "execution_count": 407,
   "metadata": {},
   "outputs": [
    {
     "data": {
      "text/plain": [
       "2    6422\n",
       "3    3798\n",
       "1    2774\n",
       "Name: DrivingStyle, dtype: int64"
      ]
     },
     "execution_count": 407,
     "metadata": {},
     "output_type": "execute_result"
    }
   ],
   "source": [
    "combined_data_aggregated.DrivingStyle.value_counts()"
   ]
  },
  {
   "cell_type": "markdown",
   "metadata": {},
   "source": [
    "#### Dummify the Categorical Variables"
   ]
  },
  {
   "cell_type": "code",
   "execution_count": 409,
   "metadata": {},
   "outputs": [],
   "source": [
    "target = combined_data_aggregated[\"DrivingStyle\"]\n",
    "combined_data_independant = combined_data_aggregated.drop([\"DrivingStyle\"],axis=1)"
   ]
  },
  {
   "cell_type": "code",
   "execution_count": 410,
   "metadata": {},
   "outputs": [],
   "source": [
    "combined_data_dummified = pd.get_dummies(combined_data_independant)"
   ]
  },
  {
   "cell_type": "code",
   "execution_count": 411,
   "metadata": {},
   "outputs": [],
   "source": [
    "combined_data_test_dummified = pd.get_dummies(combined_data_test_aggregated)"
   ]
  },
  {
   "cell_type": "code",
   "execution_count": 412,
   "metadata": {},
   "outputs": [
    {
     "data": {
      "text/html": [
       "<div>\n",
       "<style scoped>\n",
       "    .dataframe tbody tr th:only-of-type {\n",
       "        vertical-align: middle;\n",
       "    }\n",
       "\n",
       "    .dataframe tbody tr th {\n",
       "        vertical-align: top;\n",
       "    }\n",
       "\n",
       "    .dataframe thead th {\n",
       "        text-align: right;\n",
       "    }\n",
       "</style>\n",
       "<table border=\"1\" class=\"dataframe\">\n",
       "  <thead>\n",
       "    <tr style=\"text-align: right;\">\n",
       "      <th></th>\n",
       "      <th>vehicle_speed</th>\n",
       "      <th>pre_vehicle_speed</th>\n",
       "      <th>pre_vehicle_wt</th>\n",
       "      <th>pre_vehicle_len</th>\n",
       "      <th>pre_vehicle_time_gap</th>\n",
       "      <th>air_temp</th>\n",
       "      <th>relative_humidity</th>\n",
       "      <th>wind_direction</th>\n",
       "      <th>wind_speed</th>\n",
       "      <th>vehicle_len</th>\n",
       "      <th>...</th>\n",
       "      <th>precipitation_type_rain</th>\n",
       "      <th>precipitation_type_snow</th>\n",
       "      <th>precipitation_intensity_</th>\n",
       "      <th>precipitation_intensity_High</th>\n",
       "      <th>precipitation_intensity_Low</th>\n",
       "      <th>precipitation_intensity_Moderate</th>\n",
       "      <th>precipitation_intensity_None</th>\n",
       "      <th>lighting_condition_daylight</th>\n",
       "      <th>lighting_condition_night</th>\n",
       "      <th>lighting_condition_twilight</th>\n",
       "    </tr>\n",
       "  </thead>\n",
       "  <tbody>\n",
       "    <tr>\n",
       "      <th>0</th>\n",
       "      <td>84.400000</td>\n",
       "      <td>77.000000</td>\n",
       "      <td>4200.400000</td>\n",
       "      <td>762.000000</td>\n",
       "      <td>234.800000</td>\n",
       "      <td>2.2000</td>\n",
       "      <td>66.6000</td>\n",
       "      <td>173.200</td>\n",
       "      <td>5.8000</td>\n",
       "      <td>552.0</td>\n",
       "      <td>...</td>\n",
       "      <td>0</td>\n",
       "      <td>0</td>\n",
       "      <td>0</td>\n",
       "      <td>0</td>\n",
       "      <td>0</td>\n",
       "      <td>0</td>\n",
       "      <td>1</td>\n",
       "      <td>1</td>\n",
       "      <td>0</td>\n",
       "      <td>0</td>\n",
       "    </tr>\n",
       "    <tr>\n",
       "      <th>1</th>\n",
       "      <td>86.555556</td>\n",
       "      <td>85.777778</td>\n",
       "      <td>9517.888889</td>\n",
       "      <td>1184.888889</td>\n",
       "      <td>173.111111</td>\n",
       "      <td>4.0000</td>\n",
       "      <td>58.0000</td>\n",
       "      <td>163.000</td>\n",
       "      <td>8.0000</td>\n",
       "      <td>1709.0</td>\n",
       "      <td>...</td>\n",
       "      <td>0</td>\n",
       "      <td>0</td>\n",
       "      <td>0</td>\n",
       "      <td>0</td>\n",
       "      <td>0</td>\n",
       "      <td>0</td>\n",
       "      <td>1</td>\n",
       "      <td>0</td>\n",
       "      <td>1</td>\n",
       "      <td>0</td>\n",
       "    </tr>\n",
       "    <tr>\n",
       "      <th>2</th>\n",
       "      <td>83.125000</td>\n",
       "      <td>81.625000</td>\n",
       "      <td>10180.187500</td>\n",
       "      <td>1022.312500</td>\n",
       "      <td>61.437500</td>\n",
       "      <td>6.0625</td>\n",
       "      <td>34.0625</td>\n",
       "      <td>205.875</td>\n",
       "      <td>3.0625</td>\n",
       "      <td>552.0</td>\n",
       "      <td>...</td>\n",
       "      <td>0</td>\n",
       "      <td>0</td>\n",
       "      <td>0</td>\n",
       "      <td>0</td>\n",
       "      <td>0</td>\n",
       "      <td>0</td>\n",
       "      <td>1</td>\n",
       "      <td>0</td>\n",
       "      <td>1</td>\n",
       "      <td>0</td>\n",
       "    </tr>\n",
       "    <tr>\n",
       "      <th>3</th>\n",
       "      <td>86.666667</td>\n",
       "      <td>81.500000</td>\n",
       "      <td>6366.333333</td>\n",
       "      <td>1069.666667</td>\n",
       "      <td>194.166667</td>\n",
       "      <td>0.0000</td>\n",
       "      <td>0.0000</td>\n",
       "      <td>0.000</td>\n",
       "      <td>0.0000</td>\n",
       "      <td>1768.0</td>\n",
       "      <td>...</td>\n",
       "      <td>0</td>\n",
       "      <td>1</td>\n",
       "      <td>1</td>\n",
       "      <td>0</td>\n",
       "      <td>0</td>\n",
       "      <td>0</td>\n",
       "      <td>0</td>\n",
       "      <td>0</td>\n",
       "      <td>0</td>\n",
       "      <td>1</td>\n",
       "    </tr>\n",
       "    <tr>\n",
       "      <th>4</th>\n",
       "      <td>81.500000</td>\n",
       "      <td>82.500000</td>\n",
       "      <td>10157.875000</td>\n",
       "      <td>1113.625000</td>\n",
       "      <td>156.125000</td>\n",
       "      <td>1.0000</td>\n",
       "      <td>87.0000</td>\n",
       "      <td>11.000</td>\n",
       "      <td>3.0000</td>\n",
       "      <td>1734.0</td>\n",
       "      <td>...</td>\n",
       "      <td>0</td>\n",
       "      <td>0</td>\n",
       "      <td>0</td>\n",
       "      <td>0</td>\n",
       "      <td>0</td>\n",
       "      <td>0</td>\n",
       "      <td>1</td>\n",
       "      <td>0</td>\n",
       "      <td>1</td>\n",
       "      <td>0</td>\n",
       "    </tr>\n",
       "  </tbody>\n",
       "</table>\n",
       "<p>5 rows × 13022 columns</p>\n",
       "</div>"
      ],
      "text/plain": [
       "   vehicle_speed  pre_vehicle_speed  pre_vehicle_wt  pre_vehicle_len  \\\n",
       "0      84.400000          77.000000     4200.400000       762.000000   \n",
       "1      86.555556          85.777778     9517.888889      1184.888889   \n",
       "2      83.125000          81.625000    10180.187500      1022.312500   \n",
       "3      86.666667          81.500000     6366.333333      1069.666667   \n",
       "4      81.500000          82.500000    10157.875000      1113.625000   \n",
       "\n",
       "   pre_vehicle_time_gap  air_temp  relative_humidity  wind_direction  \\\n",
       "0            234.800000    2.2000            66.6000         173.200   \n",
       "1            173.111111    4.0000            58.0000         163.000   \n",
       "2             61.437500    6.0625            34.0625         205.875   \n",
       "3            194.166667    0.0000             0.0000           0.000   \n",
       "4            156.125000    1.0000            87.0000          11.000   \n",
       "\n",
       "   wind_speed  vehicle_len             ...               \\\n",
       "0      5.8000        552.0             ...                \n",
       "1      8.0000       1709.0             ...                \n",
       "2      3.0625        552.0             ...                \n",
       "3      0.0000       1768.0             ...                \n",
       "4      3.0000       1734.0             ...                \n",
       "\n",
       "   precipitation_type_rain  precipitation_type_snow  \\\n",
       "0                        0                        0   \n",
       "1                        0                        0   \n",
       "2                        0                        0   \n",
       "3                        0                        1   \n",
       "4                        0                        0   \n",
       "\n",
       "   precipitation_intensity_   precipitation_intensity_High  \\\n",
       "0                          0                             0   \n",
       "1                          0                             0   \n",
       "2                          0                             0   \n",
       "3                          1                             0   \n",
       "4                          0                             0   \n",
       "\n",
       "   precipitation_intensity_Low  precipitation_intensity_Moderate  \\\n",
       "0                            0                                 0   \n",
       "1                            0                                 0   \n",
       "2                            0                                 0   \n",
       "3                            0                                 0   \n",
       "4                            0                                 0   \n",
       "\n",
       "   precipitation_intensity_None  lighting_condition_daylight  \\\n",
       "0                             1                            1   \n",
       "1                             1                            0   \n",
       "2                             1                            0   \n",
       "3                             0                            0   \n",
       "4                             1                            0   \n",
       "\n",
       "   lighting_condition_night  lighting_condition_twilight  \n",
       "0                         0                            0  \n",
       "1                         1                            0  \n",
       "2                         1                            0  \n",
       "3                         0                            1  \n",
       "4                         1                            0  \n",
       "\n",
       "[5 rows x 13022 columns]"
      ]
     },
     "execution_count": 412,
     "metadata": {},
     "output_type": "execute_result"
    }
   ],
   "source": [
    "combined_data_dummified.head()"
   ]
  },
  {
   "cell_type": "code",
   "execution_count": 413,
   "metadata": {},
   "outputs": [
    {
     "data": {
      "text/html": [
       "<div>\n",
       "<style scoped>\n",
       "    .dataframe tbody tr th:only-of-type {\n",
       "        vertical-align: middle;\n",
       "    }\n",
       "\n",
       "    .dataframe tbody tr th {\n",
       "        vertical-align: top;\n",
       "    }\n",
       "\n",
       "    .dataframe thead th {\n",
       "        text-align: right;\n",
       "    }\n",
       "</style>\n",
       "<table border=\"1\" class=\"dataframe\">\n",
       "  <thead>\n",
       "    <tr style=\"text-align: right;\">\n",
       "      <th></th>\n",
       "      <th>vehicle_speed</th>\n",
       "      <th>pre_vehicle_speed</th>\n",
       "      <th>pre_vehicle_wt</th>\n",
       "      <th>pre_vehicle_len</th>\n",
       "      <th>pre_vehicle_time_gap</th>\n",
       "      <th>air_temp</th>\n",
       "      <th>relative_humidity</th>\n",
       "      <th>wind_direction</th>\n",
       "      <th>wind_speed</th>\n",
       "      <th>vehicle_len</th>\n",
       "      <th>...</th>\n",
       "      <th>precipitation_type_rain</th>\n",
       "      <th>precipitation_type_snow</th>\n",
       "      <th>precipitation_intensity_</th>\n",
       "      <th>precipitation_intensity_High</th>\n",
       "      <th>precipitation_intensity_Low</th>\n",
       "      <th>precipitation_intensity_Moderate</th>\n",
       "      <th>precipitation_intensity_None</th>\n",
       "      <th>lighting_condition_daylight</th>\n",
       "      <th>lighting_condition_night</th>\n",
       "      <th>lighting_condition_twilight</th>\n",
       "    </tr>\n",
       "  </thead>\n",
       "  <tbody>\n",
       "    <tr>\n",
       "      <th>0</th>\n",
       "      <td>81.928571</td>\n",
       "      <td>82.500000</td>\n",
       "      <td>5102.714286</td>\n",
       "      <td>725.000000</td>\n",
       "      <td>93.642857</td>\n",
       "      <td>1.00</td>\n",
       "      <td>57.5</td>\n",
       "      <td>157.50</td>\n",
       "      <td>5.50</td>\n",
       "      <td>548.0</td>\n",
       "      <td>...</td>\n",
       "      <td>0</td>\n",
       "      <td>0</td>\n",
       "      <td>0</td>\n",
       "      <td>0</td>\n",
       "      <td>0</td>\n",
       "      <td>0</td>\n",
       "      <td>1</td>\n",
       "      <td>1</td>\n",
       "      <td>0</td>\n",
       "      <td>0</td>\n",
       "    </tr>\n",
       "    <tr>\n",
       "      <th>1</th>\n",
       "      <td>84.760000</td>\n",
       "      <td>85.600000</td>\n",
       "      <td>4215.360000</td>\n",
       "      <td>760.160000</td>\n",
       "      <td>50.520000</td>\n",
       "      <td>1.88</td>\n",
       "      <td>67.0</td>\n",
       "      <td>17.84</td>\n",
       "      <td>3.24</td>\n",
       "      <td>594.0</td>\n",
       "      <td>...</td>\n",
       "      <td>0</td>\n",
       "      <td>0</td>\n",
       "      <td>0</td>\n",
       "      <td>0</td>\n",
       "      <td>0</td>\n",
       "      <td>0</td>\n",
       "      <td>1</td>\n",
       "      <td>0</td>\n",
       "      <td>1</td>\n",
       "      <td>0</td>\n",
       "    </tr>\n",
       "    <tr>\n",
       "      <th>2</th>\n",
       "      <td>90.500000</td>\n",
       "      <td>93.500000</td>\n",
       "      <td>1702.500000</td>\n",
       "      <td>641.750000</td>\n",
       "      <td>302.250000</td>\n",
       "      <td>2.50</td>\n",
       "      <td>90.5</td>\n",
       "      <td>194.50</td>\n",
       "      <td>5.00</td>\n",
       "      <td>825.0</td>\n",
       "      <td>...</td>\n",
       "      <td>1</td>\n",
       "      <td>0</td>\n",
       "      <td>0</td>\n",
       "      <td>0</td>\n",
       "      <td>1</td>\n",
       "      <td>0</td>\n",
       "      <td>0</td>\n",
       "      <td>1</td>\n",
       "      <td>0</td>\n",
       "      <td>0</td>\n",
       "    </tr>\n",
       "    <tr>\n",
       "      <th>3</th>\n",
       "      <td>91.000000</td>\n",
       "      <td>92.272727</td>\n",
       "      <td>3861.545455</td>\n",
       "      <td>792.818182</td>\n",
       "      <td>60.681818</td>\n",
       "      <td>5.50</td>\n",
       "      <td>50.0</td>\n",
       "      <td>146.50</td>\n",
       "      <td>5.50</td>\n",
       "      <td>567.0</td>\n",
       "      <td>...</td>\n",
       "      <td>0</td>\n",
       "      <td>0</td>\n",
       "      <td>0</td>\n",
       "      <td>0</td>\n",
       "      <td>0</td>\n",
       "      <td>0</td>\n",
       "      <td>1</td>\n",
       "      <td>1</td>\n",
       "      <td>0</td>\n",
       "      <td>0</td>\n",
       "    </tr>\n",
       "    <tr>\n",
       "      <th>4</th>\n",
       "      <td>85.000000</td>\n",
       "      <td>86.000000</td>\n",
       "      <td>13110.333333</td>\n",
       "      <td>1437.666667</td>\n",
       "      <td>202.333333</td>\n",
       "      <td>5.00</td>\n",
       "      <td>95.0</td>\n",
       "      <td>191.00</td>\n",
       "      <td>5.00</td>\n",
       "      <td>1993.0</td>\n",
       "      <td>...</td>\n",
       "      <td>0</td>\n",
       "      <td>0</td>\n",
       "      <td>0</td>\n",
       "      <td>0</td>\n",
       "      <td>0</td>\n",
       "      <td>0</td>\n",
       "      <td>1</td>\n",
       "      <td>0</td>\n",
       "      <td>1</td>\n",
       "      <td>0</td>\n",
       "    </tr>\n",
       "  </tbody>\n",
       "</table>\n",
       "<p>5 rows × 4908 columns</p>\n",
       "</div>"
      ],
      "text/plain": [
       "   vehicle_speed  pre_vehicle_speed  pre_vehicle_wt  pre_vehicle_len  \\\n",
       "0      81.928571          82.500000     5102.714286       725.000000   \n",
       "1      84.760000          85.600000     4215.360000       760.160000   \n",
       "2      90.500000          93.500000     1702.500000       641.750000   \n",
       "3      91.000000          92.272727     3861.545455       792.818182   \n",
       "4      85.000000          86.000000    13110.333333      1437.666667   \n",
       "\n",
       "   pre_vehicle_time_gap  air_temp  relative_humidity  wind_direction  \\\n",
       "0             93.642857      1.00               57.5          157.50   \n",
       "1             50.520000      1.88               67.0           17.84   \n",
       "2            302.250000      2.50               90.5          194.50   \n",
       "3             60.681818      5.50               50.0          146.50   \n",
       "4            202.333333      5.00               95.0          191.00   \n",
       "\n",
       "   wind_speed  vehicle_len             ...               \\\n",
       "0        5.50        548.0             ...                \n",
       "1        3.24        594.0             ...                \n",
       "2        5.00        825.0             ...                \n",
       "3        5.50        567.0             ...                \n",
       "4        5.00       1993.0             ...                \n",
       "\n",
       "   precipitation_type_rain  precipitation_type_snow  \\\n",
       "0                        0                        0   \n",
       "1                        0                        0   \n",
       "2                        1                        0   \n",
       "3                        0                        0   \n",
       "4                        0                        0   \n",
       "\n",
       "   precipitation_intensity_   precipitation_intensity_High  \\\n",
       "0                          0                             0   \n",
       "1                          0                             0   \n",
       "2                          0                             0   \n",
       "3                          0                             0   \n",
       "4                          0                             0   \n",
       "\n",
       "   precipitation_intensity_Low  precipitation_intensity_Moderate  \\\n",
       "0                            0                                 0   \n",
       "1                            0                                 0   \n",
       "2                            1                                 0   \n",
       "3                            0                                 0   \n",
       "4                            0                                 0   \n",
       "\n",
       "   precipitation_intensity_None  lighting_condition_daylight  \\\n",
       "0                             1                            1   \n",
       "1                             1                            0   \n",
       "2                             0                            1   \n",
       "3                             1                            1   \n",
       "4                             1                            0   \n",
       "\n",
       "   lighting_condition_night  lighting_condition_twilight  \n",
       "0                         0                            0  \n",
       "1                         1                            0  \n",
       "2                         0                            0  \n",
       "3                         0                            0  \n",
       "4                         1                            0  \n",
       "\n",
       "[5 rows x 4908 columns]"
      ]
     },
     "execution_count": 413,
     "metadata": {},
     "output_type": "execute_result"
    }
   ],
   "source": [
    "combined_data_test_dummified.head()"
   ]
  },
  {
   "cell_type": "markdown",
   "metadata": {},
   "source": [
    "## Model Building"
   ]
  },
  {
   "cell_type": "markdown",
   "metadata": {},
   "source": [
    "#### Train - Test Split\n",
    "Stratified Split as there is imbalance in Target Variable"
   ]
  },
  {
   "cell_type": "code",
   "execution_count": 414,
   "metadata": {},
   "outputs": [],
   "source": [
    "x_train, x_validation, y_train, y_validation = train_test_split(combined_data_dummified, target, stratify=target, test_size=0.3)\n"
   ]
  },
  {
   "cell_type": "markdown",
   "metadata": {},
   "source": [
    "### Logistic Regression"
   ]
  },
  {
   "cell_type": "code",
   "execution_count": 41,
   "metadata": {},
   "outputs": [],
   "source": [
    "from sklearn.linear_model import LogisticRegression"
   ]
  },
  {
   "cell_type": "code",
   "execution_count": 43,
   "metadata": {},
   "outputs": [
    {
     "name": "stderr",
     "output_type": "stream",
     "text": [
      "/Users/amithprasad/anaconda3/lib/python3.6/site-packages/sklearn/utils/optimize.py:203: ConvergenceWarning:\n",
      "\n",
      "newton-cg failed to converge. Increase the number of iterations.\n",
      "\n"
     ]
    },
    {
     "data": {
      "text/plain": [
       "LogisticRegression(C=1.0, class_weight=None, dual=False, fit_intercept=True,\n",
       "          intercept_scaling=1, max_iter=100, multi_class='multinomial',\n",
       "          n_jobs=1, penalty='l2', random_state=None, solver='newton-cg',\n",
       "          tol=0.0001, verbose=0, warm_start=False)"
      ]
     },
     "execution_count": 43,
     "metadata": {},
     "output_type": "execute_result"
    }
   ],
   "source": [
    "lr = LogisticRegression(solver='newton-cg', multi_class='multinomial')\n",
    "lr.fit(x_train, y_train)"
   ]
  },
  {
   "cell_type": "markdown",
   "metadata": {},
   "source": [
    "### Decision Tree"
   ]
  },
  {
   "cell_type": "code",
   "execution_count": 51,
   "metadata": {},
   "outputs": [],
   "source": [
    "from sklearn.model_selection import GridSearchCV\n",
    "from sklearn import tree"
   ]
  },
  {
   "cell_type": "code",
   "execution_count": 53,
   "metadata": {},
   "outputs": [
    {
     "name": "stdout",
     "output_type": "stream",
     "text": [
      "0.655937846836848 {'max_depth': 10}\n"
     ]
    }
   ],
   "source": [
    "parameters = {'max_depth':range(10,50)}\n",
    "\n",
    "clf = GridSearchCV(tree.DecisionTreeClassifier(), parameters, n_jobs=3,cv=5)\n",
    "clf.fit(X=combined_data_dummified, y=target)\n",
    "tree_model = clf.best_estimator_\n",
    "\n",
    "print (clf.best_score_, clf.best_params_) "
   ]
  },
  {
   "cell_type": "markdown",
   "metadata": {},
   "source": [
    "### Random forest"
   ]
  },
  {
   "cell_type": "code",
   "execution_count": 415,
   "metadata": {},
   "outputs": [],
   "source": [
    "from sklearn.ensemble import RandomForestClassifier"
   ]
  },
  {
   "cell_type": "code",
   "execution_count": 416,
   "metadata": {},
   "outputs": [],
   "source": [
    "# rf = RandomForestClassifier(n_estimators = 2000, n_jobs=-1,random_state = 69, max_features='sqrt',max_depth=100,bootstrap=True,min_samples_leaf=2)\n",
    "rf = RandomForestClassifier(n_estimators = 2000, n_jobs=-1,random_state = 69, max_features='sqrt',max_depth=100)"
   ]
  },
  {
   "cell_type": "code",
   "execution_count": 417,
   "metadata": {},
   "outputs": [
    {
     "data": {
      "text/plain": [
       "RandomForestClassifier(bootstrap=True, class_weight=None, criterion='gini',\n",
       "            max_depth=100, max_features='sqrt', max_leaf_nodes=None,\n",
       "            min_impurity_decrease=0.0, min_impurity_split=None,\n",
       "            min_samples_leaf=1, min_samples_split=2,\n",
       "            min_weight_fraction_leaf=0.0, n_estimators=2000, n_jobs=-1,\n",
       "            oob_score=False, random_state=69, verbose=0, warm_start=False)"
      ]
     },
     "execution_count": 417,
     "metadata": {},
     "output_type": "execute_result"
    }
   ],
   "source": [
    "rf.fit(x_train, y_train)"
   ]
  },
  {
   "cell_type": "code",
   "execution_count": null,
   "metadata": {},
   "outputs": [],
   "source": [
    "# # Grid Serach RandomForest\n",
    "# param_grid = { \n",
    "#     'n_estimators': [1500,2000],\n",
    "#     'max_features': ['auto', 'sqrt', 'log2'],\n",
    "#     'max_depth' : [30,50,100],\n",
    "#     'criterion' :['gini', 'entropy']\n",
    "# }\n",
    "\n",
    "# clf_rf = GridSearchCV(rf, param_grid, n_jobs=4,cv=5)\n",
    "# clf_rf.fit(X=combined_data_dummified, y=target)\n",
    "# print (clf_rf.best_score_, clf_rf.best_params_) "
   ]
  },
  {
   "cell_type": "markdown",
   "metadata": {},
   "source": [
    "#### Random Search"
   ]
  },
  {
   "cell_type": "code",
   "execution_count": 458,
   "metadata": {},
   "outputs": [
    {
     "name": "stdout",
     "output_type": "stream",
     "text": [
      "{'n_estimators': [1000, 1250, 1500, 1750, 2000], 'max_features': ['auto', 'sqrt'], 'max_depth': [50, 65, 80, 95, 110, None], 'min_samples_split': [2, 5, 10], 'min_samples_leaf': [1, 2, 4], 'bootstrap': [True, False]}\n"
     ]
    }
   ],
   "source": [
    "# from sklearn.model_selection import RandomizedSearchCV\n",
    "# # Number of trees in random forest\n",
    "# n_estimators = [int(x) for x in np.linspace(start = 1000, stop = 2000, num = 5)]\n",
    "# # Number of features to consider at every split\n",
    "# max_features = ['auto', 'sqrt']\n",
    "# # Maximum number of levels in tree\n",
    "# max_depth = [int(x) for x in np.linspace(50, 110, num = 5)]\n",
    "# max_depth.append(None)\n",
    "# # Minimum number of samples required to split a node\n",
    "# min_samples_split = [2, 5, 10]\n",
    "# # Minimum number of samples required at each leaf node\n",
    "# min_samples_leaf = [1, 2, 4]\n",
    "# # Method of selecting samples for training each tree\n",
    "# bootstrap = [True, False]\n",
    "# # Create the random grid\n",
    "# random_grid = {'n_estimators': n_estimators,\n",
    "#                'max_features': max_features,\n",
    "#                'max_depth': max_depth,\n",
    "#                'min_samples_split': min_samples_split,\n",
    "#                'min_samples_leaf': min_samples_leaf,\n",
    "#                'bootstrap': bootstrap}\n",
    "# print(random_grid)"
   ]
  },
  {
   "cell_type": "code",
   "execution_count": 459,
   "metadata": {},
   "outputs": [
    {
     "name": "stdout",
     "output_type": "stream",
     "text": [
      "Fitting 3 folds for each of 5 candidates, totalling 15 fits\n",
      "[CV] n_estimators=1750, min_samples_split=10, min_samples_leaf=4, max_features=sqrt, max_depth=None, bootstrap=False \n",
      "[CV] n_estimators=1750, min_samples_split=10, min_samples_leaf=4, max_features=sqrt, max_depth=None, bootstrap=False \n",
      "[CV] n_estimators=1750, min_samples_split=10, min_samples_leaf=4, max_features=sqrt, max_depth=None, bootstrap=False \n",
      "[CV] n_estimators=2000, min_samples_split=2, min_samples_leaf=4, max_features=sqrt, max_depth=50, bootstrap=False \n",
      "[CV]  n_estimators=1750, min_samples_split=10, min_samples_leaf=4, max_features=sqrt, max_depth=None, bootstrap=False, total=11.5min\n",
      "[CV] n_estimators=2000, min_samples_split=2, min_samples_leaf=4, max_features=sqrt, max_depth=50, bootstrap=False \n",
      "[CV]  n_estimators=1750, min_samples_split=10, min_samples_leaf=4, max_features=sqrt, max_depth=None, bootstrap=False, total=11.5min\n",
      "[CV] n_estimators=2000, min_samples_split=2, min_samples_leaf=4, max_features=sqrt, max_depth=50, bootstrap=False \n",
      "[CV]  n_estimators=1750, min_samples_split=10, min_samples_leaf=4, max_features=sqrt, max_depth=None, bootstrap=False, total=11.4min\n",
      "[CV] n_estimators=2000, min_samples_split=2, min_samples_leaf=4, max_features=sqrt, max_depth=110, bootstrap=True \n",
      "[CV]  n_estimators=2000, min_samples_split=2, min_samples_leaf=4, max_features=sqrt, max_depth=50, bootstrap=False, total=13.2min\n",
      "[CV] n_estimators=2000, min_samples_split=2, min_samples_leaf=4, max_features=sqrt, max_depth=110, bootstrap=True \n",
      "[CV]  n_estimators=2000, min_samples_split=2, min_samples_leaf=4, max_features=sqrt, max_depth=110, bootstrap=True, total= 8.6min\n",
      "[CV] n_estimators=2000, min_samples_split=2, min_samples_leaf=4, max_features=sqrt, max_depth=110, bootstrap=True \n",
      "[CV]  n_estimators=2000, min_samples_split=2, min_samples_leaf=4, max_features=sqrt, max_depth=110, bootstrap=True, total= 8.5min\n",
      "[CV] n_estimators=2000, min_samples_split=10, min_samples_leaf=4, max_features=auto, max_depth=110, bootstrap=True \n",
      "[CV]  n_estimators=2000, min_samples_split=2, min_samples_leaf=4, max_features=sqrt, max_depth=50, bootstrap=False, total=12.6min\n",
      "[CV] n_estimators=2000, min_samples_split=10, min_samples_leaf=4, max_features=auto, max_depth=110, bootstrap=True \n",
      "[CV]  n_estimators=2000, min_samples_split=2, min_samples_leaf=4, max_features=sqrt, max_depth=50, bootstrap=False, total=12.3min\n",
      "[CV] n_estimators=2000, min_samples_split=10, min_samples_leaf=4, max_features=auto, max_depth=110, bootstrap=True \n",
      "[CV]  n_estimators=2000, min_samples_split=2, min_samples_leaf=4, max_features=sqrt, max_depth=110, bootstrap=True, total= 9.4min\n",
      "[CV] n_estimators=1750, min_samples_split=5, min_samples_leaf=1, max_features=auto, max_depth=95, bootstrap=True \n",
      "[CV]  n_estimators=2000, min_samples_split=10, min_samples_leaf=4, max_features=auto, max_depth=110, bootstrap=True, total= 9.4min\n",
      "[CV] n_estimators=1750, min_samples_split=5, min_samples_leaf=1, max_features=auto, max_depth=95, bootstrap=True \n",
      "[CV]  n_estimators=2000, min_samples_split=10, min_samples_leaf=4, max_features=auto, max_depth=110, bootstrap=True, total= 9.6min\n",
      "[CV] n_estimators=1750, min_samples_split=5, min_samples_leaf=1, max_features=auto, max_depth=95, bootstrap=True \n",
      "[CV]  n_estimators=2000, min_samples_split=10, min_samples_leaf=4, max_features=auto, max_depth=110, bootstrap=True, total= 9.9min\n",
      "[CV]  n_estimators=1750, min_samples_split=5, min_samples_leaf=1, max_features=auto, max_depth=95, bootstrap=True, total= 9.2min\n",
      "[CV]  n_estimators=1750, min_samples_split=5, min_samples_leaf=1, max_features=auto, max_depth=95, bootstrap=True, total= 8.9min\n",
      "[CV]  n_estimators=1750, min_samples_split=5, min_samples_leaf=1, max_features=auto, max_depth=95, bootstrap=True, total= 7.4min\n"
     ]
    },
    {
     "name": "stderr",
     "output_type": "stream",
     "text": [
      "[Parallel(n_jobs=-1)]: Done  15 out of  15 | elapsed: 45.0min finished\n"
     ]
    },
    {
     "data": {
      "text/plain": [
       "RandomizedSearchCV(cv=3, error_score='raise',\n",
       "          estimator=RandomForestClassifier(bootstrap=True, class_weight=None, criterion='gini',\n",
       "            max_depth=None, max_features='auto', max_leaf_nodes=None,\n",
       "            min_impurity_decrease=0.0, min_impurity_split=None,\n",
       "            min_samples_leaf=1, min_samples_split=2,\n",
       "            min_weight_fraction_leaf=0.0, n_estimators=10, n_jobs=1,\n",
       "            oob_score=False, random_state=None, verbose=0,\n",
       "            warm_start=False),\n",
       "          fit_params=None, iid=True, n_iter=5, n_jobs=-1,\n",
       "          param_distributions={'n_estimators': [1000, 1250, 1500, 1750, 2000], 'max_features': ['auto', 'sqrt'], 'max_depth': [50, 65, 80, 95, 110, None], 'min_samples_split': [2, 5, 10], 'min_samples_leaf': [1, 2, 4], 'bootstrap': [True, False]},\n",
       "          pre_dispatch='2*n_jobs', random_state=69, refit=True,\n",
       "          return_train_score='warn', scoring=None, verbose=2)"
      ]
     },
     "execution_count": 459,
     "metadata": {},
     "output_type": "execute_result"
    }
   ],
   "source": [
    "# # Use the random grid to search for best hyperparameters\n",
    "# # First create the base model to tune\n",
    "# rf = RandomForestClassifier()\n",
    "# # Random search of parameters, using 3 fold cross validation, \n",
    "# # search across 100 different combinations, and use all available cores\n",
    "# rf_random = RandomizedSearchCV(estimator = rf, param_distributions = random_grid, n_iter = 5, cv = 3, verbose=2, random_state=69, n_jobs = -1)\n",
    "# # Fit the random search model\n",
    "# rf_random.fit(combined_data_dummified, target)\n"
   ]
  },
  {
   "cell_type": "markdown",
   "metadata": {},
   "source": [
    "## Predicting"
   ]
  },
  {
   "cell_type": "markdown",
   "metadata": {},
   "source": [
    "#### Predict on Train"
   ]
  },
  {
   "cell_type": "code",
   "execution_count": 44,
   "metadata": {},
   "outputs": [],
   "source": [
    "lr_pred_train = lr.predict(x_train)"
   ]
  },
  {
   "cell_type": "code",
   "execution_count": 45,
   "metadata": {},
   "outputs": [
    {
     "name": "stdout",
     "output_type": "stream",
     "text": [
      "0.6479813720871236\n"
     ]
    }
   ],
   "source": [
    "print(accuracy_score(y_train,lr_pred_train))"
   ]
  },
  {
   "cell_type": "code",
   "execution_count": 418,
   "metadata": {},
   "outputs": [],
   "source": [
    "rf_pred_train = rf.predict(x_train)"
   ]
  },
  {
   "cell_type": "code",
   "execution_count": 419,
   "metadata": {},
   "outputs": [
    {
     "name": "stdout",
     "output_type": "stream",
     "text": [
      "0.9894447498625618\n"
     ]
    }
   ],
   "source": [
    "print(accuracy_score(y_train,rf_pred_train)) "
   ]
  },
  {
   "cell_type": "markdown",
   "metadata": {},
   "source": [
    "#### Predict on Validation"
   ]
  },
  {
   "cell_type": "code",
   "execution_count": 47,
   "metadata": {},
   "outputs": [],
   "source": [
    "lr_pred_validation = lr.predict(x_validation)"
   ]
  },
  {
   "cell_type": "code",
   "execution_count": 48,
   "metadata": {},
   "outputs": [
    {
     "name": "stdout",
     "output_type": "stream",
     "text": [
      "0.6491131640699321\n"
     ]
    }
   ],
   "source": [
    "print(accuracy_score(y_validation,lr_pred_validation)) "
   ]
  },
  {
   "cell_type": "code",
   "execution_count": 420,
   "metadata": {},
   "outputs": [],
   "source": [
    "rf_pred_validation = rf.predict(x_validation)"
   ]
  },
  {
   "cell_type": "code",
   "execution_count": 421,
   "metadata": {},
   "outputs": [
    {
     "name": "stdout",
     "output_type": "stream",
     "text": [
      "0.7183893305975891\n"
     ]
    }
   ],
   "source": [
    "print(accuracy_score(y_validation,rf_pred_validation)) "
   ]
  },
  {
   "cell_type": "code",
   "execution_count": null,
   "metadata": {},
   "outputs": [],
   "source": [
    "depth = []\n",
    "for i in range(3,30):\n",
    "    # Perform 7-fold cross validation \n",
    "    scores = cross_val_score(estimator=rf, X=x_train, y=y_train, cv=5, n_jobs=1)\n",
    "    depth.append((i,scores.mean()))\n",
    "print(depth)"
   ]
  },
  {
   "cell_type": "markdown",
   "metadata": {},
   "source": [
    "#### Predict on Test"
   ]
  },
  {
   "cell_type": "code",
   "execution_count": 424,
   "metadata": {},
   "outputs": [],
   "source": [
    "# Get missing columns in the training test\n",
    "missing_cols = set( combined_data_dummified.columns ) - set( combined_data_test_dummified.columns )\n",
    "# Add a missing column in test set with default value equal to 0\n",
    "for c in missing_cols:\n",
    "    combined_data_test_dummified[c] = 0\n",
    "# Ensure the order of column in the test set is in the same order than in train set\n",
    "combined_data_test_dummified = combined_data_test_dummified[combined_data_dummified.columns]"
   ]
  },
  {
   "cell_type": "code",
   "execution_count": 425,
   "metadata": {},
   "outputs": [],
   "source": [
    "rf_pred_test = rf.predict(combined_data_test_dummified)"
   ]
  },
  {
   "cell_type": "code",
   "execution_count": 426,
   "metadata": {},
   "outputs": [],
   "source": [
    "test_sub_data = pd.DataFrame({'DrivingStyle': rf_pred_test})"
   ]
  },
  {
   "cell_type": "code",
   "execution_count": 427,
   "metadata": {},
   "outputs": [
    {
     "data": {
      "text/plain": [
       "(59744, 1)"
      ]
     },
     "execution_count": 427,
     "metadata": {},
     "output_type": "execute_result"
    }
   ],
   "source": [
    "test_sub_data.shape"
   ]
  },
  {
   "cell_type": "code",
   "execution_count": 428,
   "metadata": {},
   "outputs": [
    {
     "data": {
      "text/plain": [
       "DrivingStyle    0\n",
       "dtype: int64"
      ]
     },
     "execution_count": 428,
     "metadata": {},
     "output_type": "execute_result"
    }
   ],
   "source": [
    "test_sub_data.isna().sum()"
   ]
  },
  {
   "cell_type": "code",
   "execution_count": 429,
   "metadata": {},
   "outputs": [
    {
     "data": {
      "text/html": [
       "<div>\n",
       "<style scoped>\n",
       "    .dataframe tbody tr th:only-of-type {\n",
       "        vertical-align: middle;\n",
       "    }\n",
       "\n",
       "    .dataframe tbody tr th {\n",
       "        vertical-align: top;\n",
       "    }\n",
       "\n",
       "    .dataframe thead th {\n",
       "        text-align: right;\n",
       "    }\n",
       "</style>\n",
       "<table border=\"1\" class=\"dataframe\">\n",
       "  <thead>\n",
       "    <tr style=\"text-align: right;\">\n",
       "      <th></th>\n",
       "      <th>DrivingStyle</th>\n",
       "    </tr>\n",
       "  </thead>\n",
       "  <tbody>\n",
       "    <tr>\n",
       "      <th>0</th>\n",
       "      <td>2</td>\n",
       "    </tr>\n",
       "    <tr>\n",
       "      <th>1</th>\n",
       "      <td>2</td>\n",
       "    </tr>\n",
       "    <tr>\n",
       "      <th>2</th>\n",
       "      <td>2</td>\n",
       "    </tr>\n",
       "    <tr>\n",
       "      <th>3</th>\n",
       "      <td>2</td>\n",
       "    </tr>\n",
       "    <tr>\n",
       "      <th>4</th>\n",
       "      <td>2</td>\n",
       "    </tr>\n",
       "  </tbody>\n",
       "</table>\n",
       "</div>"
      ],
      "text/plain": [
       "   DrivingStyle\n",
       "0             2\n",
       "1             2\n",
       "2             2\n",
       "3             2\n",
       "4             2"
      ]
     },
     "execution_count": 429,
     "metadata": {},
     "output_type": "execute_result"
    }
   ],
   "source": [
    "test_sub_data.head()"
   ]
  },
  {
   "cell_type": "code",
   "execution_count": 430,
   "metadata": {},
   "outputs": [],
   "source": [
    "ids = list(combined_data_test_no_na_with_ID.ID)"
   ]
  },
  {
   "cell_type": "code",
   "execution_count": 431,
   "metadata": {},
   "outputs": [
    {
     "data": {
      "text/plain": [
       "59744"
      ]
     },
     "execution_count": 431,
     "metadata": {},
     "output_type": "execute_result"
    }
   ],
   "source": [
    "len(ids)"
   ]
  },
  {
   "cell_type": "code",
   "execution_count": 432,
   "metadata": {},
   "outputs": [],
   "source": [
    "test_sub_data['ID'] = ids"
   ]
  },
  {
   "cell_type": "code",
   "execution_count": 433,
   "metadata": {},
   "outputs": [
    {
     "data": {
      "text/plain": [
       "(59744, 2)"
      ]
     },
     "execution_count": 433,
     "metadata": {},
     "output_type": "execute_result"
    }
   ],
   "source": [
    "test_sub_data.shape"
   ]
  },
  {
   "cell_type": "code",
   "execution_count": 434,
   "metadata": {},
   "outputs": [
    {
     "data": {
      "text/plain": [
       "DrivingStyle    0\n",
       "ID              0\n",
       "dtype: int64"
      ]
     },
     "execution_count": 434,
     "metadata": {},
     "output_type": "execute_result"
    }
   ],
   "source": [
    "test_sub_data.isna().sum()"
   ]
  },
  {
   "cell_type": "code",
   "execution_count": 435,
   "metadata": {},
   "outputs": [
    {
     "data": {
      "text/html": [
       "<div>\n",
       "<style scoped>\n",
       "    .dataframe tbody tr th:only-of-type {\n",
       "        vertical-align: middle;\n",
       "    }\n",
       "\n",
       "    .dataframe tbody tr th {\n",
       "        vertical-align: top;\n",
       "    }\n",
       "\n",
       "    .dataframe thead th {\n",
       "        text-align: right;\n",
       "    }\n",
       "</style>\n",
       "<table border=\"1\" class=\"dataframe\">\n",
       "  <thead>\n",
       "    <tr style=\"text-align: right;\">\n",
       "      <th></th>\n",
       "      <th>DrivingStyle</th>\n",
       "      <th>ID</th>\n",
       "    </tr>\n",
       "  </thead>\n",
       "  <tbody>\n",
       "    <tr>\n",
       "      <th>0</th>\n",
       "      <td>2</td>\n",
       "      <td>DR_79986</td>\n",
       "    </tr>\n",
       "    <tr>\n",
       "      <th>1</th>\n",
       "      <td>2</td>\n",
       "      <td>DR_79986</td>\n",
       "    </tr>\n",
       "    <tr>\n",
       "      <th>2</th>\n",
       "      <td>2</td>\n",
       "      <td>DR_79986</td>\n",
       "    </tr>\n",
       "    <tr>\n",
       "      <th>3</th>\n",
       "      <td>2</td>\n",
       "      <td>DR_79986</td>\n",
       "    </tr>\n",
       "    <tr>\n",
       "      <th>4</th>\n",
       "      <td>2</td>\n",
       "      <td>DR_79986</td>\n",
       "    </tr>\n",
       "  </tbody>\n",
       "</table>\n",
       "</div>"
      ],
      "text/plain": [
       "   DrivingStyle        ID\n",
       "0             2  DR_79986\n",
       "1             2  DR_79986\n",
       "2             2  DR_79986\n",
       "3             2  DR_79986\n",
       "4             2  DR_79986"
      ]
     },
     "execution_count": 435,
     "metadata": {},
     "output_type": "execute_result"
    }
   ],
   "source": [
    "test_sub_data.head()"
   ]
  },
  {
   "cell_type": "code",
   "execution_count": 436,
   "metadata": {},
   "outputs": [],
   "source": [
    "test_sub_data.columns = ['DrivingStyle','ID']"
   ]
  },
  {
   "cell_type": "code",
   "execution_count": 437,
   "metadata": {},
   "outputs": [],
   "source": [
    "test_sub_data = test_sub_data[['ID','DrivingStyle']]"
   ]
  },
  {
   "cell_type": "code",
   "execution_count": 438,
   "metadata": {},
   "outputs": [
    {
     "data": {
      "text/html": [
       "<div>\n",
       "<style scoped>\n",
       "    .dataframe tbody tr th:only-of-type {\n",
       "        vertical-align: middle;\n",
       "    }\n",
       "\n",
       "    .dataframe tbody tr th {\n",
       "        vertical-align: top;\n",
       "    }\n",
       "\n",
       "    .dataframe thead th {\n",
       "        text-align: right;\n",
       "    }\n",
       "</style>\n",
       "<table border=\"1\" class=\"dataframe\">\n",
       "  <thead>\n",
       "    <tr style=\"text-align: right;\">\n",
       "      <th></th>\n",
       "      <th>ID</th>\n",
       "      <th>DrivingStyle</th>\n",
       "    </tr>\n",
       "  </thead>\n",
       "  <tbody>\n",
       "    <tr>\n",
       "      <th>0</th>\n",
       "      <td>DR_79986</td>\n",
       "      <td>2</td>\n",
       "    </tr>\n",
       "    <tr>\n",
       "      <th>1</th>\n",
       "      <td>DR_79986</td>\n",
       "      <td>2</td>\n",
       "    </tr>\n",
       "    <tr>\n",
       "      <th>2</th>\n",
       "      <td>DR_79986</td>\n",
       "      <td>2</td>\n",
       "    </tr>\n",
       "    <tr>\n",
       "      <th>3</th>\n",
       "      <td>DR_79986</td>\n",
       "      <td>2</td>\n",
       "    </tr>\n",
       "    <tr>\n",
       "      <th>4</th>\n",
       "      <td>DR_79986</td>\n",
       "      <td>2</td>\n",
       "    </tr>\n",
       "  </tbody>\n",
       "</table>\n",
       "</div>"
      ],
      "text/plain": [
       "         ID  DrivingStyle\n",
       "0  DR_79986             2\n",
       "1  DR_79986             2\n",
       "2  DR_79986             2\n",
       "3  DR_79986             2\n",
       "4  DR_79986             2"
      ]
     },
     "execution_count": 438,
     "metadata": {},
     "output_type": "execute_result"
    }
   ],
   "source": [
    "test_sub_data.head()"
   ]
  },
  {
   "cell_type": "code",
   "execution_count": 439,
   "metadata": {},
   "outputs": [
    {
     "data": {
      "text/plain": [
       "ID              0\n",
       "DrivingStyle    0\n",
       "dtype: int64"
      ]
     },
     "execution_count": 439,
     "metadata": {},
     "output_type": "execute_result"
    }
   ],
   "source": [
    "test_sub_data.isna().sum()"
   ]
  },
  {
   "cell_type": "code",
   "execution_count": 440,
   "metadata": {},
   "outputs": [],
   "source": [
    "test_sub_data_grouped = test_sub_data.groupby(['ID','DrivingStyle']).size().to_frame()\n",
    "test_sub_data_grouped = test_sub_data_grouped.reset_index()\n",
    "test_sub_data_grouped.columns = ['ID','DrivingStyle','Count']"
   ]
  },
  {
   "cell_type": "code",
   "execution_count": 441,
   "metadata": {},
   "outputs": [
    {
     "data": {
      "text/html": [
       "<div>\n",
       "<style scoped>\n",
       "    .dataframe tbody tr th:only-of-type {\n",
       "        vertical-align: middle;\n",
       "    }\n",
       "\n",
       "    .dataframe tbody tr th {\n",
       "        vertical-align: top;\n",
       "    }\n",
       "\n",
       "    .dataframe thead th {\n",
       "        text-align: right;\n",
       "    }\n",
       "</style>\n",
       "<table border=\"1\" class=\"dataframe\">\n",
       "  <thead>\n",
       "    <tr style=\"text-align: right;\">\n",
       "      <th></th>\n",
       "      <th>ID</th>\n",
       "      <th>DrivingStyle</th>\n",
       "      <th>Count</th>\n",
       "    </tr>\n",
       "  </thead>\n",
       "  <tbody>\n",
       "    <tr>\n",
       "      <th>0</th>\n",
       "      <td>DR_75256</td>\n",
       "      <td>2</td>\n",
       "      <td>14</td>\n",
       "    </tr>\n",
       "    <tr>\n",
       "      <th>1</th>\n",
       "      <td>DR_75257</td>\n",
       "      <td>3</td>\n",
       "      <td>24</td>\n",
       "    </tr>\n",
       "    <tr>\n",
       "      <th>2</th>\n",
       "      <td>DR_75260</td>\n",
       "      <td>2</td>\n",
       "      <td>4</td>\n",
       "    </tr>\n",
       "    <tr>\n",
       "      <th>3</th>\n",
       "      <td>DR_75272</td>\n",
       "      <td>2</td>\n",
       "      <td>21</td>\n",
       "    </tr>\n",
       "    <tr>\n",
       "      <th>4</th>\n",
       "      <td>DR_75274</td>\n",
       "      <td>1</td>\n",
       "      <td>3</td>\n",
       "    </tr>\n",
       "  </tbody>\n",
       "</table>\n",
       "</div>"
      ],
      "text/plain": [
       "         ID  DrivingStyle  Count\n",
       "0  DR_75256             2     14\n",
       "1  DR_75257             3     24\n",
       "2  DR_75260             2      4\n",
       "3  DR_75272             2     21\n",
       "4  DR_75274             1      3"
      ]
     },
     "execution_count": 441,
     "metadata": {},
     "output_type": "execute_result"
    }
   ],
   "source": [
    "test_sub_data_grouped.head()"
   ]
  },
  {
   "cell_type": "code",
   "execution_count": 442,
   "metadata": {},
   "outputs": [],
   "source": [
    "test_sub_data_grouped = test_sub_data_grouped.groupby(['ID'], sort=False)['ID','Count','DrivingStyle'].max()"
   ]
  },
  {
   "cell_type": "code",
   "execution_count": 443,
   "metadata": {},
   "outputs": [],
   "source": [
    "test_sub_data_grouped = test_sub_data_grouped.drop('Count',axis=1)"
   ]
  },
  {
   "cell_type": "code",
   "execution_count": 444,
   "metadata": {},
   "outputs": [
    {
     "data": {
      "text/html": [
       "<div>\n",
       "<style scoped>\n",
       "    .dataframe tbody tr th:only-of-type {\n",
       "        vertical-align: middle;\n",
       "    }\n",
       "\n",
       "    .dataframe tbody tr th {\n",
       "        vertical-align: top;\n",
       "    }\n",
       "\n",
       "    .dataframe thead th {\n",
       "        text-align: right;\n",
       "    }\n",
       "</style>\n",
       "<table border=\"1\" class=\"dataframe\">\n",
       "  <thead>\n",
       "    <tr style=\"text-align: right;\">\n",
       "      <th></th>\n",
       "      <th>ID</th>\n",
       "      <th>DrivingStyle</th>\n",
       "    </tr>\n",
       "    <tr>\n",
       "      <th>ID</th>\n",
       "      <th></th>\n",
       "      <th></th>\n",
       "    </tr>\n",
       "  </thead>\n",
       "  <tbody>\n",
       "    <tr>\n",
       "      <th>DR_75256</th>\n",
       "      <td>DR_75256</td>\n",
       "      <td>2</td>\n",
       "    </tr>\n",
       "    <tr>\n",
       "      <th>DR_75257</th>\n",
       "      <td>DR_75257</td>\n",
       "      <td>3</td>\n",
       "    </tr>\n",
       "    <tr>\n",
       "      <th>DR_75260</th>\n",
       "      <td>DR_75260</td>\n",
       "      <td>2</td>\n",
       "    </tr>\n",
       "    <tr>\n",
       "      <th>DR_75272</th>\n",
       "      <td>DR_75272</td>\n",
       "      <td>2</td>\n",
       "    </tr>\n",
       "    <tr>\n",
       "      <th>DR_75274</th>\n",
       "      <td>DR_75274</td>\n",
       "      <td>1</td>\n",
       "    </tr>\n",
       "  </tbody>\n",
       "</table>\n",
       "</div>"
      ],
      "text/plain": [
       "                ID  DrivingStyle\n",
       "ID                              \n",
       "DR_75256  DR_75256             2\n",
       "DR_75257  DR_75257             3\n",
       "DR_75260  DR_75260             2\n",
       "DR_75272  DR_75272             2\n",
       "DR_75274  DR_75274             1"
      ]
     },
     "execution_count": 444,
     "metadata": {},
     "output_type": "execute_result"
    }
   ],
   "source": [
    "test_sub_data_grouped.head()"
   ]
  },
  {
   "cell_type": "code",
   "execution_count": 445,
   "metadata": {},
   "outputs": [],
   "source": [
    "test_sub_data_grouped.reset_index(drop=True, inplace=True)"
   ]
  },
  {
   "cell_type": "code",
   "execution_count": 446,
   "metadata": {},
   "outputs": [
    {
     "data": {
      "text/html": [
       "<div>\n",
       "<style scoped>\n",
       "    .dataframe tbody tr th:only-of-type {\n",
       "        vertical-align: middle;\n",
       "    }\n",
       "\n",
       "    .dataframe tbody tr th {\n",
       "        vertical-align: top;\n",
       "    }\n",
       "\n",
       "    .dataframe thead th {\n",
       "        text-align: right;\n",
       "    }\n",
       "</style>\n",
       "<table border=\"1\" class=\"dataframe\">\n",
       "  <thead>\n",
       "    <tr style=\"text-align: right;\">\n",
       "      <th></th>\n",
       "      <th>ID</th>\n",
       "      <th>DrivingStyle</th>\n",
       "    </tr>\n",
       "  </thead>\n",
       "  <tbody>\n",
       "    <tr>\n",
       "      <th>0</th>\n",
       "      <td>DR_75256</td>\n",
       "      <td>2</td>\n",
       "    </tr>\n",
       "    <tr>\n",
       "      <th>1</th>\n",
       "      <td>DR_75257</td>\n",
       "      <td>3</td>\n",
       "    </tr>\n",
       "    <tr>\n",
       "      <th>2</th>\n",
       "      <td>DR_75260</td>\n",
       "      <td>2</td>\n",
       "    </tr>\n",
       "    <tr>\n",
       "      <th>3</th>\n",
       "      <td>DR_75272</td>\n",
       "      <td>2</td>\n",
       "    </tr>\n",
       "    <tr>\n",
       "      <th>4</th>\n",
       "      <td>DR_75274</td>\n",
       "      <td>1</td>\n",
       "    </tr>\n",
       "  </tbody>\n",
       "</table>\n",
       "</div>"
      ],
      "text/plain": [
       "         ID  DrivingStyle\n",
       "0  DR_75256             2\n",
       "1  DR_75257             3\n",
       "2  DR_75260             2\n",
       "3  DR_75272             2\n",
       "4  DR_75274             1"
      ]
     },
     "execution_count": 446,
     "metadata": {},
     "output_type": "execute_result"
    }
   ],
   "source": [
    "test_sub_data_grouped.head()"
   ]
  },
  {
   "cell_type": "code",
   "execution_count": null,
   "metadata": {},
   "outputs": [],
   "source": []
  }
 ],
 "metadata": {
  "kernelspec": {
   "display_name": "Python 3",
   "language": "python",
   "name": "python3"
  },
  "language_info": {
   "codemirror_mode": {
    "name": "ipython",
    "version": 3
   },
   "file_extension": ".py",
   "mimetype": "text/x-python",
   "name": "python",
   "nbconvert_exporter": "python",
   "pygments_lexer": "ipython3",
   "version": "3.6.5"
  }
 },
 "nbformat": 4,
 "nbformat_minor": 2
}
